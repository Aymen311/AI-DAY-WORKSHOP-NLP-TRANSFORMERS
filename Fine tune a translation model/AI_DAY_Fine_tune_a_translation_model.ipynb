{
  "nbformat": 4,
  "nbformat_minor": 0,
  "metadata": {
    "colab": {
      "name": "AI DAY - Fine tune a translation model.ipynb",
      "provenance": []
    },
    "kernelspec": {
      "name": "python3",
      "display_name": "Python 3"
    },
    "language_info": {
      "name": "python"
    },
    "widgets": {
      "application/vnd.jupyter.widget-state+json": {
        "558c5cfa22c543d78b3a692a2fd17359": {
          "model_module": "@jupyter-widgets/controls",
          "model_name": "VBoxModel",
          "model_module_version": "1.5.0",
          "state": {
            "_view_name": "VBoxView",
            "_dom_classes": [],
            "_model_name": "VBoxModel",
            "_view_module": "@jupyter-widgets/controls",
            "_model_module_version": "1.5.0",
            "_view_count": null,
            "_view_module_version": "1.5.0",
            "box_style": "",
            "layout": "IPY_MODEL_ea84f178fbad469fb76bf689678d51d8",
            "_model_module": "@jupyter-widgets/controls",
            "children": [  
              "IPY_MODEL_6555df4d64354fa885fb8f868aebac30",
              "IPY_MODEL_9d618a1b33384e01865a41b3e02d470f",
              "IPY_MODEL_902812a9347f41beb215b1c7975abe63",
              "IPY_MODEL_b68c84175ad140af955a999f529ebafa",
              "IPY_MODEL_c8f75d04eeec45e3bf809aebb6d84f89"
            ]
          }
        },
        "ea84f178fbad469fb76bf689678d51d8": {
          "model_module": "@jupyter-widgets/base",
          "model_name": "LayoutModel",
          "model_module_version": "1.2.0",
          "state": {
            "_view_name": "LayoutView",
            "grid_template_rows": null,
            "right": null,
            "justify_content": null,
            "_view_module": "@jupyter-widgets/base",
            "overflow": null,
            "_model_module_version": "1.2.0",
            "_view_count": null,
            "flex_flow": "column",
            "width": "50%",
            "min_width": null,
            "border": null,
            "align_items": "center",
            "bottom": null,
            "_model_module": "@jupyter-widgets/base",
            "top": null,
            "grid_column": null,
            "overflow_y": null,
            "overflow_x": null,
            "grid_auto_flow": null,
            "grid_area": null,
            "grid_template_columns": null,
            "flex": null,
            "_model_name": "LayoutModel",
            "justify_items": null,
            "grid_row": null,
            "max_height": null,
            "align_content": null,
            "visibility": null,
            "align_self": null,
            "height": null,
            "min_height": null,
            "padding": null,
            "grid_auto_rows": null,
            "grid_gap": null,
            "max_width": null,
            "order": null,
            "_view_module_version": "1.2.0",
            "grid_template_areas": null,
            "object_position": null,
            "object_fit": null,
            "grid_auto_columns": null,
            "margin": null,
            "display": "flex",
            "left": null
          }
        },
        "6555df4d64354fa885fb8f868aebac30": {
          "model_module": "@jupyter-widgets/controls",
          "model_name": "HTMLModel",
          "model_module_version": "1.5.0",
          "state": {
            "_view_name": "HTMLView",
            "style": "IPY_MODEL_e74f588e218442bd9e5be97ef197d68c",
            "_dom_classes": [],
            "description": "",
            "_model_name": "HTMLModel",
            "placeholder": "​",
            "_view_module": "@jupyter-widgets/controls",
            "_model_module_version": "1.5.0",
            "value": "<center>\n<img src=https://huggingface.co/front/assets/huggingface_logo-noborder.svg alt='Hugging Face'>\n<br>\nCopy a token from <a href=\"https://huggingface.co/settings/token\" target=\"_blank\">your Hugging Face tokens page</a> and paste it below.\n<br>\nImmediately click login after copying your token or it might be stored in plain text in this notebook file.\n</center>",
            "_view_count": null,
            "_view_module_version": "1.5.0",
            "description_tooltip": null,
            "_model_module": "@jupyter-widgets/controls",
            "layout": "IPY_MODEL_05f67c1445894f19a6ad3385d1e704f9"
          }
        },
        "9d618a1b33384e01865a41b3e02d470f": {
          "model_module": "@jupyter-widgets/controls",
          "model_name": "PasswordModel",
          "model_module_version": "1.5.0",
          "state": {
            "_view_name": "PasswordView",
            "style": "IPY_MODEL_beb83fca336545b19cdc2bb8e7402ee4",
            "_dom_classes": [],
            "description": "Token:",
            "_model_name": "PasswordModel",
            "placeholder": "​",
            "_view_module": "@jupyter-widgets/controls",
            "_model_module_version": "1.5.0",
            "value": "",
            "_view_count": null,
            "disabled": false,
            "_view_module_version": "1.5.0",
            "continuous_update": true,
            "description_tooltip": null,
            "_model_module": "@jupyter-widgets/controls",
            "layout": "IPY_MODEL_5c206b1938874ecab1f010c2b6dc483e"
          }
        },
        "902812a9347f41beb215b1c7975abe63": {
          "model_module": "@jupyter-widgets/controls",
          "model_name": "ButtonModel",
          "model_module_version": "1.5.0",
          "state": {
            "_view_name": "ButtonView",
            "style": "IPY_MODEL_1ca92fe77dc94e159fe8044a31b57462",
            "_dom_classes": [],
            "description": "Login",
            "_model_name": "ButtonModel",
            "button_style": "",
            "_view_module": "@jupyter-widgets/controls",
            "_model_module_version": "1.5.0",
            "tooltip": "",
            "_view_count": null,
            "disabled": false,
            "_view_module_version": "1.5.0",
            "layout": "IPY_MODEL_b5f017d81d6f46ccb5aeb712d6775909",
            "_model_module": "@jupyter-widgets/controls",
            "icon": ""
          }
        },
        "b68c84175ad140af955a999f529ebafa": {
          "model_module": "@jupyter-widgets/controls",
          "model_name": "HTMLModel",
          "model_module_version": "1.5.0",
          "state": {
            "_view_name": "HTMLView",
            "style": "IPY_MODEL_64a50b12d79b4a5d9db49f76a8be63b8",
            "_dom_classes": [],
            "description": "",
            "_model_name": "HTMLModel",
            "placeholder": "​",
            "_view_module": "@jupyter-widgets/controls",
            "_model_module_version": "1.5.0",
            "value": "\n<b>Pro Tip:</b> If you don't already have one, you can create a dedicated 'notebooks' token with 'write' access, that you can then easily reuse for all notebooks.\n<br>\n<i>Logging in with your username and password is deprecated and won't be possible anymore in the near future. You can still use them for now by clicking below.</i>\n</center>",
            "_view_count": null,
            "_view_module_version": "1.5.0",
            "description_tooltip": null,
            "_model_module": "@jupyter-widgets/controls",
            "layout": "IPY_MODEL_b664c804b79d481792de9ba82b19659a"
          }
        },
        "c8f75d04eeec45e3bf809aebb6d84f89": {
          "model_module": "@jupyter-widgets/controls",
          "model_name": "ButtonModel",
          "model_module_version": "1.5.0",
          "state": {
            "_view_name": "ButtonView",
            "style": "IPY_MODEL_9eaf8b5fd2f04ed7a50e218269b11408",
            "_dom_classes": [],
            "description": "Use password",
            "_model_name": "ButtonModel",
            "button_style": "",
            "_view_module": "@jupyter-widgets/controls",
            "_model_module_version": "1.5.0",
            "tooltip": "",
            "_view_count": null,
            "disabled": false,
            "_view_module_version": "1.5.0",
            "layout": "IPY_MODEL_6c1d40cedad347f390782060ffa13c75",
            "_model_module": "@jupyter-widgets/controls",
            "icon": ""
          }
        },
        "e74f588e218442bd9e5be97ef197d68c": {
          "model_module": "@jupyter-widgets/controls",
          "model_name": "DescriptionStyleModel",
          "model_module_version": "1.5.0",
          "state": {
            "_view_name": "StyleView",
            "_model_name": "DescriptionStyleModel",
            "description_width": "",
            "_view_module": "@jupyter-widgets/base",
            "_model_module_version": "1.5.0",
            "_view_count": null,
            "_view_module_version": "1.2.0",
            "_model_module": "@jupyter-widgets/controls"
          }
        },
        "05f67c1445894f19a6ad3385d1e704f9": {
          "model_module": "@jupyter-widgets/base",
          "model_name": "LayoutModel",
          "model_module_version": "1.2.0",
          "state": {
            "_view_name": "LayoutView",
            "grid_template_rows": null,
            "right": null,
            "justify_content": null,
            "_view_module": "@jupyter-widgets/base",
            "overflow": null,
            "_model_module_version": "1.2.0",
            "_view_count": null,
            "flex_flow": null,
            "width": null,
            "min_width": null,
            "border": null,
            "align_items": null,
            "bottom": null,
            "_model_module": "@jupyter-widgets/base",
            "top": null,
            "grid_column": null,
            "overflow_y": null,
            "overflow_x": null,
            "grid_auto_flow": null,
            "grid_area": null,
            "grid_template_columns": null,
            "flex": null,
            "_model_name": "LayoutModel",
            "justify_items": null,
            "grid_row": null,
            "max_height": null,
            "align_content": null,
            "visibility": null,
            "align_self": null,
            "height": null,
            "min_height": null,
            "padding": null,
            "grid_auto_rows": null,
            "grid_gap": null,
            "max_width": null,
            "order": null,
            "_view_module_version": "1.2.0",
            "grid_template_areas": null,
            "object_position": null,
            "object_fit": null,
            "grid_auto_columns": null,
            "margin": null,
            "display": null,
            "left": null
          }
        },
        "beb83fca336545b19cdc2bb8e7402ee4": {
          "model_module": "@jupyter-widgets/controls",
          "model_name": "DescriptionStyleModel",
          "model_module_version": "1.5.0",
          "state": {
            "_view_name": "StyleView",
            "_model_name": "DescriptionStyleModel",
            "description_width": "",
            "_view_module": "@jupyter-widgets/base",
            "_model_module_version": "1.5.0",
            "_view_count": null,
            "_view_module_version": "1.2.0",
            "_model_module": "@jupyter-widgets/controls"
          }
        },
        "5c206b1938874ecab1f010c2b6dc483e": {
          "model_module": "@jupyter-widgets/base",
          "model_name": "LayoutModel",
          "model_module_version": "1.2.0",
          "state": {
            "_view_name": "LayoutView",
            "grid_template_rows": null,
            "right": null,
            "justify_content": null,
            "_view_module": "@jupyter-widgets/base",
            "overflow": null,
            "_model_module_version": "1.2.0",
            "_view_count": null,
            "flex_flow": null,
            "width": null,
            "min_width": null,
            "border": null,
            "align_items": null,
            "bottom": null,
            "_model_module": "@jupyter-widgets/base",
            "top": null,
            "grid_column": null,
            "overflow_y": null,
            "overflow_x": null,
            "grid_auto_flow": null,
            "grid_area": null,
            "grid_template_columns": null,
            "flex": null,
            "_model_name": "LayoutModel",
            "justify_items": null,
            "grid_row": null,
            "max_height": null,
            "align_content": null,
            "visibility": null,
            "align_self": null,
            "height": null,
            "min_height": null,
            "padding": null,
            "grid_auto_rows": null,
            "grid_gap": null,
            "max_width": null,
            "order": null,
            "_view_module_version": "1.2.0",
            "grid_template_areas": null,
            "object_position": null,
            "object_fit": null,
            "grid_auto_columns": null,
            "margin": null,
            "display": null,
            "left": null
          }
        },
        "1ca92fe77dc94e159fe8044a31b57462": {
          "model_module": "@jupyter-widgets/controls",
          "model_name": "ButtonStyleModel",
          "model_module_version": "1.5.0",
          "state": {
            "_view_name": "StyleView",
            "_model_name": "ButtonStyleModel",
            "_view_module": "@jupyter-widgets/base",
            "_model_module_version": "1.5.0",
            "_view_count": null,
            "button_color": null,
            "font_weight": "",
            "_view_module_version": "1.2.0",
            "_model_module": "@jupyter-widgets/controls"
          }
        },
        "b5f017d81d6f46ccb5aeb712d6775909": {
          "model_module": "@jupyter-widgets/base",
          "model_name": "LayoutModel",
          "model_module_version": "1.2.0",
          "state": {
            "_view_name": "LayoutView",
            "grid_template_rows": null,
            "right": null,
            "justify_content": null,
            "_view_module": "@jupyter-widgets/base",
            "overflow": null,
            "_model_module_version": "1.2.0",
            "_view_count": null,
            "flex_flow": null,
            "width": null,
            "min_width": null,
            "border": null,
            "align_items": null,
            "bottom": null,
            "_model_module": "@jupyter-widgets/base",
            "top": null,
            "grid_column": null,
            "overflow_y": null,
            "overflow_x": null,
            "grid_auto_flow": null,
            "grid_area": null,
            "grid_template_columns": null,
            "flex": null,
            "_model_name": "LayoutModel",
            "justify_items": null,
            "grid_row": null,
            "max_height": null,
            "align_content": null,
            "visibility": null,
            "align_self": null,
            "height": null,
            "min_height": null,
            "padding": null,
            "grid_auto_rows": null,
            "grid_gap": null,
            "max_width": null,
            "order": null,
            "_view_module_version": "1.2.0",
            "grid_template_areas": null,
            "object_position": null,
            "object_fit": null,
            "grid_auto_columns": null,
            "margin": null,
            "display": null,
            "left": null
          }
        },
        "64a50b12d79b4a5d9db49f76a8be63b8": {
          "model_module": "@jupyter-widgets/controls",
          "model_name": "DescriptionStyleModel",
          "model_module_version": "1.5.0",
          "state": {
            "_view_name": "StyleView",
            "_model_name": "DescriptionStyleModel",
            "description_width": "",
            "_view_module": "@jupyter-widgets/base",
            "_model_module_version": "1.5.0",
            "_view_count": null,
            "_view_module_version": "1.2.0",
            "_model_module": "@jupyter-widgets/controls"
          }
        },
        "b664c804b79d481792de9ba82b19659a": {
          "model_module": "@jupyter-widgets/base",
          "model_name": "LayoutModel",
          "model_module_version": "1.2.0",
          "state": {
            "_view_name": "LayoutView",
            "grid_template_rows": null,
            "right": null,
            "justify_content": null,
            "_view_module": "@jupyter-widgets/base",
            "overflow": null,
            "_model_module_version": "1.2.0",
            "_view_count": null,
            "flex_flow": null,
            "width": null,
            "min_width": null,
            "border": null,
            "align_items": null,
            "bottom": null,
            "_model_module": "@jupyter-widgets/base",
            "top": null,
            "grid_column": null,
            "overflow_y": null,
            "overflow_x": null,
            "grid_auto_flow": null,
            "grid_area": null,
            "grid_template_columns": null,
            "flex": null,
            "_model_name": "LayoutModel",
            "justify_items": null,
            "grid_row": null,
            "max_height": null,
            "align_content": null,
            "visibility": null,
            "align_self": null,
            "height": null,
            "min_height": null,
            "padding": null,
            "grid_auto_rows": null,
            "grid_gap": null,
            "max_width": null,
            "order": null,
            "_view_module_version": "1.2.0",
            "grid_template_areas": null,
            "object_position": null,
            "object_fit": null,
            "grid_auto_columns": null,
            "margin": null,
            "display": null,
            "left": null
          }
        },
        "9eaf8b5fd2f04ed7a50e218269b11408": {
          "model_module": "@jupyter-widgets/controls",
          "model_name": "ButtonStyleModel",
          "model_module_version": "1.5.0",
          "state": {
            "_view_name": "StyleView",
            "_model_name": "ButtonStyleModel",
            "_view_module": "@jupyter-widgets/base",
            "_model_module_version": "1.5.0",
            "_view_count": null,
            "button_color": null,
            "font_weight": "",
            "_view_module_version": "1.2.0",
            "_model_module": "@jupyter-widgets/controls"
          }
        },
        "6c1d40cedad347f390782060ffa13c75": {
          "model_module": "@jupyter-widgets/base",
          "model_name": "LayoutModel",
          "model_module_version": "1.2.0",
          "state": {
            "_view_name": "LayoutView",
            "grid_template_rows": null,
            "right": null,
            "justify_content": null,
            "_view_module": "@jupyter-widgets/base",
            "overflow": null,
            "_model_module_version": "1.2.0",
            "_view_count": null,
            "flex_flow": null,
            "width": null,
            "min_width": null,
            "border": null,
            "align_items": null,
            "bottom": null,
            "_model_module": "@jupyter-widgets/base",
            "top": null,
            "grid_column": null,
            "overflow_y": null,
            "overflow_x": null,
            "grid_auto_flow": null,
            "grid_area": null,
            "grid_template_columns": null,
            "flex": null,
            "_model_name": "LayoutModel",
            "justify_items": null,
            "grid_row": null,
            "max_height": null,
            "align_content": null,
            "visibility": null,
            "align_self": null,
            "height": null,
            "min_height": null,
            "padding": null,
            "grid_auto_rows": null,
            "grid_gap": null,
            "max_width": null,
            "order": null,
            "_view_module_version": "1.2.0",
            "grid_template_areas": null,
            "object_position": null,
            "object_fit": null,
            "grid_auto_columns": null,
            "margin": null,
            "display": null,
            "left": null
          }
        },
        "5e2e6e126df6435e97341245156d8785": {
          "model_module": "@jupyter-widgets/controls",
          "model_name": "HBoxModel",
          "model_module_version": "1.5.0",
          "state": {
            "_view_name": "HBoxView",
            "_dom_classes": [],
            "_model_name": "HBoxModel",
            "_view_module": "@jupyter-widgets/controls",
            "_model_module_version": "1.5.0",
            "_view_count": null,
            "_view_module_version": "1.5.0",
            "box_style": "",
            "layout": "IPY_MODEL_f2c41099552d4c27906ab44abf342271",
            "_model_module": "@jupyter-widgets/controls",
            "children": [
              "IPY_MODEL_e71aa5865b7b42be963b3847f7b5f234",
              "IPY_MODEL_f1d502a8aa614580bbbcedd245fb89b9",
              "IPY_MODEL_317e72aae40048ce91929884a6fe4c9e"
            ]
          }
        },
        "f2c41099552d4c27906ab44abf342271": {
          "model_module": "@jupyter-widgets/base",
          "model_name": "LayoutModel",
          "model_module_version": "1.2.0",
          "state": {
            "_view_name": "LayoutView",
            "grid_template_rows": null,
            "right": null,
            "justify_content": null,
            "_view_module": "@jupyter-widgets/base",
            "overflow": null,
            "_model_module_version": "1.2.0",
            "_view_count": null,
            "flex_flow": null,
            "width": null,
            "min_width": null,
            "border": null,
            "align_items": null,
            "bottom": null,
            "_model_module": "@jupyter-widgets/base",
            "top": null,
            "grid_column": null,
            "overflow_y": null,
            "overflow_x": null,
            "grid_auto_flow": null,
            "grid_area": null,
            "grid_template_columns": null,
            "flex": null,
            "_model_name": "LayoutModel",
            "justify_items": null,
            "grid_row": null,
            "max_height": null,
            "align_content": null,
            "visibility": null,
            "align_self": null,
            "height": null,
            "min_height": null,
            "padding": null,
            "grid_auto_rows": null,
            "grid_gap": null,
            "max_width": null,
            "order": null,
            "_view_module_version": "1.2.0",
            "grid_template_areas": null,
            "object_position": null,
            "object_fit": null,
            "grid_auto_columns": null,
            "margin": null,
            "display": null,
            "left": null
          }
        },
        "e71aa5865b7b42be963b3847f7b5f234": {
          "model_module": "@jupyter-widgets/controls",
          "model_name": "HTMLModel",
          "model_module_version": "1.5.0",
          "state": {
            "_view_name": "HTMLView",
            "style": "IPY_MODEL_3e4860483cbe40bb9603fafdee97c938",
            "_dom_classes": [],
            "description": "",
            "_model_name": "HTMLModel",
            "placeholder": "​",
            "_view_module": "@jupyter-widgets/controls",
            "_model_module_version": "1.5.0",
            "value": "100%",
            "_view_count": null,
            "_view_module_version": "1.5.0",
            "description_tooltip": null,
            "_model_module": "@jupyter-widgets/controls",
            "layout": "IPY_MODEL_1adec69de45b4dc89b28c2176900f582"
          }
        },
        "f1d502a8aa614580bbbcedd245fb89b9": {
          "model_module": "@jupyter-widgets/controls",
          "model_name": "FloatProgressModel",
          "model_module_version": "1.5.0",
          "state": {
            "_view_name": "ProgressView",
            "style": "IPY_MODEL_ad1a369defd545a981116a9404253401",
            "_dom_classes": [],
            "description": "",
            "_model_name": "FloatProgressModel",
            "bar_style": "success",
            "max": 3,
            "_view_module": "@jupyter-widgets/controls",
            "_model_module_version": "1.5.0",
            "value": 3,
            "_view_count": null,
            "_view_module_version": "1.5.0",
            "orientation": "horizontal",
            "min": 0,
            "description_tooltip": null,
            "_model_module": "@jupyter-widgets/controls",
            "layout": "IPY_MODEL_be8f3200a5aa433f979b97f5a89f852d"
          }
        },
        "317e72aae40048ce91929884a6fe4c9e": {
          "model_module": "@jupyter-widgets/controls",
          "model_name": "HTMLModel",
          "model_module_version": "1.5.0",
          "state": {
            "_view_name": "HTMLView",
            "style": "IPY_MODEL_077644bde24a4ed790f95b7aa1bdabb9",
            "_dom_classes": [],
            "description": "",
            "_model_name": "HTMLModel",
            "placeholder": "​",
            "_view_module": "@jupyter-widgets/controls",
            "_model_module_version": "1.5.0",
            "value": " 3/3 [00:00&lt;00:00, 84.82it/s]",
            "_view_count": null,
            "_view_module_version": "1.5.0",
            "description_tooltip": null,
            "_model_module": "@jupyter-widgets/controls",
            "layout": "IPY_MODEL_04ba414a0ef04cc19b44d1f49a763cf6"
          }
        },
        "3e4860483cbe40bb9603fafdee97c938": {
          "model_module": "@jupyter-widgets/controls",
          "model_name": "DescriptionStyleModel",
          "model_module_version": "1.5.0",
          "state": {
            "_view_name": "StyleView",
            "_model_name": "DescriptionStyleModel",
            "description_width": "",
            "_view_module": "@jupyter-widgets/base",
            "_model_module_version": "1.5.0",
            "_view_count": null,
            "_view_module_version": "1.2.0",
            "_model_module": "@jupyter-widgets/controls"
          }
        },
        "1adec69de45b4dc89b28c2176900f582": {
          "model_module": "@jupyter-widgets/base",
          "model_name": "LayoutModel",
          "model_module_version": "1.2.0",
          "state": {
            "_view_name": "LayoutView",
            "grid_template_rows": null,
            "right": null,
            "justify_content": null,
            "_view_module": "@jupyter-widgets/base",
            "overflow": null,
            "_model_module_version": "1.2.0",
            "_view_count": null,
            "flex_flow": null,
            "width": null,
            "min_width": null,
            "border": null,
            "align_items": null,
            "bottom": null,
            "_model_module": "@jupyter-widgets/base",
            "top": null,
            "grid_column": null,
            "overflow_y": null,
            "overflow_x": null,
            "grid_auto_flow": null,
            "grid_area": null,
            "grid_template_columns": null,
            "flex": null,
            "_model_name": "LayoutModel",
            "justify_items": null,
            "grid_row": null,
            "max_height": null,
            "align_content": null,
            "visibility": null,
            "align_self": null,
            "height": null,
            "min_height": null,
            "padding": null,
            "grid_auto_rows": null,
            "grid_gap": null,
            "max_width": null,
            "order": null,
            "_view_module_version": "1.2.0",
            "grid_template_areas": null,
            "object_position": null,
            "object_fit": null,
            "grid_auto_columns": null,
            "margin": null,
            "display": null,
            "left": null
          }
        },
        "ad1a369defd545a981116a9404253401": {
          "model_module": "@jupyter-widgets/controls",
          "model_name": "ProgressStyleModel",
          "model_module_version": "1.5.0",
          "state": {
            "_view_name": "StyleView",
            "_model_name": "ProgressStyleModel",
            "description_width": "",
            "_view_module": "@jupyter-widgets/base",
            "_model_module_version": "1.5.0",
            "_view_count": null,
            "_view_module_version": "1.2.0",
            "bar_color": null,
            "_model_module": "@jupyter-widgets/controls"
          }
        },
        "be8f3200a5aa433f979b97f5a89f852d": {
          "model_module": "@jupyter-widgets/base",
          "model_name": "LayoutModel",
          "model_module_version": "1.2.0",
          "state": {
            "_view_name": "LayoutView",
            "grid_template_rows": null,
            "right": null,
            "justify_content": null,
            "_view_module": "@jupyter-widgets/base",
            "overflow": null,
            "_model_module_version": "1.2.0",
            "_view_count": null,
            "flex_flow": null,
            "width": null,
            "min_width": null,
            "border": null,
            "align_items": null,
            "bottom": null,
            "_model_module": "@jupyter-widgets/base",
            "top": null,
            "grid_column": null,
            "overflow_y": null,
            "overflow_x": null,
            "grid_auto_flow": null,
            "grid_area": null,
            "grid_template_columns": null,
            "flex": null,
            "_model_name": "LayoutModel",
            "justify_items": null,
            "grid_row": null,
            "max_height": null,
            "align_content": null,
            "visibility": null,
            "align_self": null,
            "height": null,
            "min_height": null,
            "padding": null,
            "grid_auto_rows": null,
            "grid_gap": null,
            "max_width": null,
            "order": null,
            "_view_module_version": "1.2.0",
            "grid_template_areas": null,
            "object_position": null,
            "object_fit": null,
            "grid_auto_columns": null,
            "margin": null,
            "display": null,
            "left": null
          }
        },
        "077644bde24a4ed790f95b7aa1bdabb9": {
          "model_module": "@jupyter-widgets/controls",
          "model_name": "DescriptionStyleModel",
          "model_module_version": "1.5.0",
          "state": {
            "_view_name": "StyleView",
            "_model_name": "DescriptionStyleModel",
            "description_width": "",
            "_view_module": "@jupyter-widgets/base",
            "_model_module_version": "1.5.0",
            "_view_count": null,
            "_view_module_version": "1.2.0",
            "_model_module": "@jupyter-widgets/controls"
          }
        },
        "04ba414a0ef04cc19b44d1f49a763cf6": {
          "model_module": "@jupyter-widgets/base",
          "model_name": "LayoutModel",
          "model_module_version": "1.2.0",
          "state": {
            "_view_name": "LayoutView",
            "grid_template_rows": null,
            "right": null,
            "justify_content": null,
            "_view_module": "@jupyter-widgets/base",
            "overflow": null,
            "_model_module_version": "1.2.0",
            "_view_count": null,
            "flex_flow": null,
            "width": null,
            "min_width": null,
            "border": null,
            "align_items": null,
            "bottom": null,
            "_model_module": "@jupyter-widgets/base",
            "top": null,
            "grid_column": null,
            "overflow_y": null,
            "overflow_x": null,
            "grid_auto_flow": null,
            "grid_area": null,
            "grid_template_columns": null,
            "flex": null,
            "_model_name": "LayoutModel",
            "justify_items": null,
            "grid_row": null,
            "max_height": null,
            "align_content": null,
            "visibility": null,
            "align_self": null,
            "height": null,
            "min_height": null,
            "padding": null,
            "grid_auto_rows": null,
            "grid_gap": null,
            "max_width": null,
            "order": null,
            "_view_module_version": "1.2.0",
            "grid_template_areas": null,
            "object_position": null,
            "object_fit": null,
            "grid_auto_columns": null,
            "margin": null,
            "display": null,
            "left": null
          }
        },
        "2695a90f3dc14899aa0ec627df873479": {
          "model_module": "@jupyter-widgets/controls",
          "model_name": "HBoxModel",
          "model_module_version": "1.5.0",
          "state": {
            "_view_name": "HBoxView",
            "_dom_classes": [],
            "_model_name": "HBoxModel",
            "_view_module": "@jupyter-widgets/controls",
            "_model_module_version": "1.5.0",
            "_view_count": null,
            "_view_module_version": "1.5.0",
            "box_style": "",
            "layout": "IPY_MODEL_e91700316a4d41ddb9b33d3bf89a25ad",
            "_model_module": "@jupyter-widgets/controls",
            "children": [
              "IPY_MODEL_1a780886649f43d59ff4918a9a8de134",
              "IPY_MODEL_d9fb1da0abcb4052abea186bd42e6bf8",
              "IPY_MODEL_7ef64535e6a44aeabbdbeb42af645175"
            ]
          }
        },
        "e91700316a4d41ddb9b33d3bf89a25ad": {
          "model_module": "@jupyter-widgets/base",
          "model_name": "LayoutModel",
          "model_module_version": "1.2.0",
          "state": {
            "_view_name": "LayoutView",
            "grid_template_rows": null,
            "right": null,
            "justify_content": null,
            "_view_module": "@jupyter-widgets/base",
            "overflow": null,
            "_model_module_version": "1.2.0",
            "_view_count": null,
            "flex_flow": null,
            "width": null,
            "min_width": null,
            "border": null,
            "align_items": null,
            "bottom": null,
            "_model_module": "@jupyter-widgets/base",
            "top": null,
            "grid_column": null,
            "overflow_y": null,
            "overflow_x": null,
            "grid_auto_flow": null,
            "grid_area": null,
            "grid_template_columns": null,
            "flex": null,
            "_model_name": "LayoutModel",
            "justify_items": null,
            "grid_row": null,
            "max_height": null,
            "align_content": null,
            "visibility": null,
            "align_self": null,
            "height": null,
            "min_height": null,
            "padding": null,
            "grid_auto_rows": null,
            "grid_gap": null,
            "max_width": null,
            "order": null,
            "_view_module_version": "1.2.0",
            "grid_template_areas": null,
            "object_position": null,
            "object_fit": null,
            "grid_auto_columns": null,
            "margin": null,
            "display": null,
            "left": null
          }
        },
        "1a780886649f43d59ff4918a9a8de134": {
          "model_module": "@jupyter-widgets/controls",
          "model_name": "HTMLModel",
          "model_module_version": "1.5.0",
          "state": {
            "_view_name": "HTMLView",
            "style": "IPY_MODEL_5676bfb59f7c481a85ddf3e43927c075",
            "_dom_classes": [],
            "description": "",
            "_model_name": "HTMLModel",
            "placeholder": "​",
            "_view_module": "@jupyter-widgets/controls",
            "_model_module_version": "1.5.0",
            "value": "Downloading: 100%",
            "_view_count": null,
            "_view_module_version": "1.5.0",
            "description_tooltip": null,
            "_model_module": "@jupyter-widgets/controls",
            "layout": "IPY_MODEL_ef1a726f20c74f8bb9f41779a79e19d3"
          }
        },
        "d9fb1da0abcb4052abea186bd42e6bf8": {
          "model_module": "@jupyter-widgets/controls",
          "model_name": "FloatProgressModel",
          "model_module_version": "1.5.0",
          "state": {
            "_view_name": "ProgressView",
            "style": "IPY_MODEL_939c5fdd39ae41a29741793194c66823",
            "_dom_classes": [],
            "description": "",
            "_model_name": "FloatProgressModel",
            "bar_style": "success",
            "max": 42,
            "_view_module": "@jupyter-widgets/controls",
            "_model_module_version": "1.5.0",
            "value": 42,
            "_view_count": null,
            "_view_module_version": "1.5.0",
            "orientation": "horizontal",
            "min": 0,
            "description_tooltip": null,
            "_model_module": "@jupyter-widgets/controls",
            "layout": "IPY_MODEL_0a4e436b56aa44c7973f807dcd954896"
          }
        },
        "7ef64535e6a44aeabbdbeb42af645175": {
          "model_module": "@jupyter-widgets/controls",
          "model_name": "HTMLModel",
          "model_module_version": "1.5.0",
          "state": {
            "_view_name": "HTMLView",
            "style": "IPY_MODEL_11f5c6bc09024cea96811357c8391297",
            "_dom_classes": [],
            "description": "",
            "_model_name": "HTMLModel",
            "placeholder": "​",
            "_view_module": "@jupyter-widgets/controls",
            "_model_module_version": "1.5.0",
            "value": " 42.0/42.0 [00:00&lt;00:00, 1.09kB/s]",
            "_view_count": null,
            "_view_module_version": "1.5.0",
            "description_tooltip": null,
            "_model_module": "@jupyter-widgets/controls",
            "layout": "IPY_MODEL_6e47469e1afa4e77b791f473af4c0c86"
          }
        },
        "5676bfb59f7c481a85ddf3e43927c075": {
          "model_module": "@jupyter-widgets/controls",
          "model_name": "DescriptionStyleModel",
          "model_module_version": "1.5.0",
          "state": {
            "_view_name": "StyleView",
            "_model_name": "DescriptionStyleModel",
            "description_width": "",
            "_view_module": "@jupyter-widgets/base",
            "_model_module_version": "1.5.0",
            "_view_count": null,
            "_view_module_version": "1.2.0",
            "_model_module": "@jupyter-widgets/controls"
          }
        },
        "ef1a726f20c74f8bb9f41779a79e19d3": {
          "model_module": "@jupyter-widgets/base",
          "model_name": "LayoutModel",
          "model_module_version": "1.2.0",
          "state": {
            "_view_name": "LayoutView",
            "grid_template_rows": null,
            "right": null,
            "justify_content": null,
            "_view_module": "@jupyter-widgets/base",
            "overflow": null,
            "_model_module_version": "1.2.0",
            "_view_count": null,
            "flex_flow": null,
            "width": null,
            "min_width": null,
            "border": null,
            "align_items": null,
            "bottom": null,
            "_model_module": "@jupyter-widgets/base",
            "top": null,
            "grid_column": null,
            "overflow_y": null,
            "overflow_x": null,
            "grid_auto_flow": null,
            "grid_area": null,
            "grid_template_columns": null,
            "flex": null,
            "_model_name": "LayoutModel",
            "justify_items": null,
            "grid_row": null,
            "max_height": null,
            "align_content": null,
            "visibility": null,
            "align_self": null,
            "height": null,
            "min_height": null,
            "padding": null,
            "grid_auto_rows": null,
            "grid_gap": null,
            "max_width": null,
            "order": null,
            "_view_module_version": "1.2.0",
            "grid_template_areas": null,
            "object_position": null,
            "object_fit": null,
            "grid_auto_columns": null,
            "margin": null,
            "display": null,
            "left": null
          }
        },
        "939c5fdd39ae41a29741793194c66823": {
          "model_module": "@jupyter-widgets/controls",
          "model_name": "ProgressStyleModel",
          "model_module_version": "1.5.0",
          "state": {
            "_view_name": "StyleView",
            "_model_name": "ProgressStyleModel",
            "description_width": "",
            "_view_module": "@jupyter-widgets/base",
            "_model_module_version": "1.5.0",
            "_view_count": null,
            "_view_module_version": "1.2.0",
            "bar_color": null,
            "_model_module": "@jupyter-widgets/controls"
          }
        },
        "0a4e436b56aa44c7973f807dcd954896": {
          "model_module": "@jupyter-widgets/base",
          "model_name": "LayoutModel",
          "model_module_version": "1.2.0",
          "state": {
            "_view_name": "LayoutView",
            "grid_template_rows": null,
            "right": null,
            "justify_content": null,
            "_view_module": "@jupyter-widgets/base",
            "overflow": null,
            "_model_module_version": "1.2.0",
            "_view_count": null,
            "flex_flow": null,
            "width": null,
            "min_width": null,
            "border": null,
            "align_items": null,
            "bottom": null,
            "_model_module": "@jupyter-widgets/base",
            "top": null,
            "grid_column": null,
            "overflow_y": null,
            "overflow_x": null,
            "grid_auto_flow": null,
            "grid_area": null,
            "grid_template_columns": null,
            "flex": null,
            "_model_name": "LayoutModel",
            "justify_items": null,
            "grid_row": null,
            "max_height": null,
            "align_content": null,
            "visibility": null,
            "align_self": null,
            "height": null,
            "min_height": null,
            "padding": null,
            "grid_auto_rows": null,
            "grid_gap": null,
            "max_width": null,
            "order": null,
            "_view_module_version": "1.2.0",
            "grid_template_areas": null,
            "object_position": null,
            "object_fit": null,
            "grid_auto_columns": null,
            "margin": null,
            "display": null,
            "left": null
          }
        },
        "11f5c6bc09024cea96811357c8391297": {
          "model_module": "@jupyter-widgets/controls",
          "model_name": "DescriptionStyleModel",
          "model_module_version": "1.5.0",
          "state": {
            "_view_name": "StyleView",
            "_model_name": "DescriptionStyleModel",
            "description_width": "",
            "_view_module": "@jupyter-widgets/base",
            "_model_module_version": "1.5.0",
            "_view_count": null,
            "_view_module_version": "1.2.0",
            "_model_module": "@jupyter-widgets/controls"
          }
        },
        "6e47469e1afa4e77b791f473af4c0c86": {
          "model_module": "@jupyter-widgets/base",
          "model_name": "LayoutModel",
          "model_module_version": "1.2.0",
          "state": {
            "_view_name": "LayoutView",
            "grid_template_rows": null,
            "right": null,
            "justify_content": null,
            "_view_module": "@jupyter-widgets/base",
            "overflow": null,
            "_model_module_version": "1.2.0",
            "_view_count": null,
            "flex_flow": null,
            "width": null,
            "min_width": null,
            "border": null,
            "align_items": null,
            "bottom": null,
            "_model_module": "@jupyter-widgets/base",
            "top": null,
            "grid_column": null,
            "overflow_y": null,
            "overflow_x": null,
            "grid_auto_flow": null,
            "grid_area": null,
            "grid_template_columns": null,
            "flex": null,
            "_model_name": "LayoutModel",
            "justify_items": null,
            "grid_row": null,
            "max_height": null,
            "align_content": null,
            "visibility": null,
            "align_self": null,
            "height": null,
            "min_height": null,
            "padding": null,
            "grid_auto_rows": null,
            "grid_gap": null,
            "max_width": null,
            "order": null,
            "_view_module_version": "1.2.0",
            "grid_template_areas": null,
            "object_position": null,
            "object_fit": null,
            "grid_auto_columns": null,
            "margin": null,
            "display": null,
            "left": null
          }
        },
        "d56b01cd9bda40159e9cc59c99559eb4": {
          "model_module": "@jupyter-widgets/controls",
          "model_name": "HBoxModel",
          "model_module_version": "1.5.0",
          "state": {
            "_view_name": "HBoxView",
            "_dom_classes": [],
            "_model_name": "HBoxModel",
            "_view_module": "@jupyter-widgets/controls",
            "_model_module_version": "1.5.0",
            "_view_count": null,
            "_view_module_version": "1.5.0",
            "box_style": "",
            "layout": "IPY_MODEL_331d57ea48f34975b6fa39fc7936eefe",
            "_model_module": "@jupyter-widgets/controls",
            "children": [
              "IPY_MODEL_54787c31313b4d279e0d067eff78261c",
              "IPY_MODEL_91be89ef2cd5449d9e1ebac71701f62b",
              "IPY_MODEL_7bff223e7ad24d76989558b96aa7cb7b"
            ]
          }
        },
        "331d57ea48f34975b6fa39fc7936eefe": {
          "model_module": "@jupyter-widgets/base",
          "model_name": "LayoutModel",
          "model_module_version": "1.2.0",
          "state": {
            "_view_name": "LayoutView",
            "grid_template_rows": null,
            "right": null,
            "justify_content": null,
            "_view_module": "@jupyter-widgets/base",
            "overflow": null,
            "_model_module_version": "1.2.0",
            "_view_count": null,
            "flex_flow": null,
            "width": null,
            "min_width": null,
            "border": null,
            "align_items": null,
            "bottom": null,
            "_model_module": "@jupyter-widgets/base",
            "top": null,
            "grid_column": null,
            "overflow_y": null,
            "overflow_x": null,
            "grid_auto_flow": null,
            "grid_area": null,
            "grid_template_columns": null,
            "flex": null,
            "_model_name": "LayoutModel",
            "justify_items": null,
            "grid_row": null,
            "max_height": null,
            "align_content": null,
            "visibility": null,
            "align_self": null,
            "height": null,
            "min_height": null,
            "padding": null,
            "grid_auto_rows": null,
            "grid_gap": null,
            "max_width": null,
            "order": null,
            "_view_module_version": "1.2.0",
            "grid_template_areas": null,
            "object_position": null,
            "object_fit": null,
            "grid_auto_columns": null,
            "margin": null,
            "display": null,
            "left": null
          }
        },
        "54787c31313b4d279e0d067eff78261c": {
          "model_module": "@jupyter-widgets/controls",
          "model_name": "HTMLModel",
          "model_module_version": "1.5.0",
          "state": {
            "_view_name": "HTMLView",
            "style": "IPY_MODEL_9d89d59b6e7244898633710ed529ebe2",
            "_dom_classes": [],
            "description": "",
            "_model_name": "HTMLModel",
            "placeholder": "​",
            "_view_module": "@jupyter-widgets/controls",
            "_model_module_version": "1.5.0",
            "value": "Downloading: 100%",
            "_view_count": null,
            "_view_module_version": "1.5.0",
            "description_tooltip": null,
            "_model_module": "@jupyter-widgets/controls",
            "layout": "IPY_MODEL_ca0b4068ddeb4d569265f13041e3aac1"
          }
        },
        "91be89ef2cd5449d9e1ebac71701f62b": {
          "model_module": "@jupyter-widgets/controls",
          "model_name": "FloatProgressModel",
          "model_module_version": "1.5.0",
          "state": {
            "_view_name": "ProgressView",
            "style": "IPY_MODEL_77aef7c9371542cbaa3218184e912b95",
            "_dom_classes": [],
            "description": "",
            "_model_name": "FloatProgressModel",
            "bar_style": "success",
            "max": 1132,
            "_view_module": "@jupyter-widgets/controls",
            "_model_module_version": "1.5.0",
            "value": 1132,
            "_view_count": null,
            "_view_module_version": "1.5.0",
            "orientation": "horizontal",
            "min": 0,
            "description_tooltip": null,
            "_model_module": "@jupyter-widgets/controls",
            "layout": "IPY_MODEL_947f196c1963445488fad5bf6c609d8c"
          }
        },
        "7bff223e7ad24d76989558b96aa7cb7b": {
          "model_module": "@jupyter-widgets/controls",
          "model_name": "HTMLModel",
          "model_module_version": "1.5.0",
          "state": {
            "_view_name": "HTMLView",
            "style": "IPY_MODEL_a43727e59c574b25b615c9b2c7235d04",
            "_dom_classes": [],
            "description": "",
            "_model_name": "HTMLModel",
            "placeholder": "​",
            "_view_module": "@jupyter-widgets/controls",
            "_model_module_version": "1.5.0",
            "value": " 1.11k/1.11k [00:00&lt;00:00, 25.2kB/s]",
            "_view_count": null,
            "_view_module_version": "1.5.0",
            "description_tooltip": null,
            "_model_module": "@jupyter-widgets/controls",
            "layout": "IPY_MODEL_765149300caf4646af5088cd573f8d18"
          }
        },
        "9d89d59b6e7244898633710ed529ebe2": {
          "model_module": "@jupyter-widgets/controls",
          "model_name": "DescriptionStyleModel",
          "model_module_version": "1.5.0",
          "state": {
            "_view_name": "StyleView",
            "_model_name": "DescriptionStyleModel",
            "description_width": "",
            "_view_module": "@jupyter-widgets/base",
            "_model_module_version": "1.5.0",
            "_view_count": null,
            "_view_module_version": "1.2.0",
            "_model_module": "@jupyter-widgets/controls"
          }
        },
        "ca0b4068ddeb4d569265f13041e3aac1": {
          "model_module": "@jupyter-widgets/base",
          "model_name": "LayoutModel",
          "model_module_version": "1.2.0",
          "state": {
            "_view_name": "LayoutView",
            "grid_template_rows": null,
            "right": null,
            "justify_content": null,
            "_view_module": "@jupyter-widgets/base",
            "overflow": null,
            "_model_module_version": "1.2.0",
            "_view_count": null,
            "flex_flow": null,
            "width": null,
            "min_width": null,
            "border": null,
            "align_items": null,
            "bottom": null,
            "_model_module": "@jupyter-widgets/base",
            "top": null,
            "grid_column": null,
            "overflow_y": null,
            "overflow_x": null,
            "grid_auto_flow": null,
            "grid_area": null,
            "grid_template_columns": null,
            "flex": null,
            "_model_name": "LayoutModel",
            "justify_items": null,
            "grid_row": null,
            "max_height": null,
            "align_content": null,
            "visibility": null,
            "align_self": null,
            "height": null,
            "min_height": null,
            "padding": null,
            "grid_auto_rows": null,
            "grid_gap": null,
            "max_width": null,
            "order": null,
            "_view_module_version": "1.2.0",
            "grid_template_areas": null,
            "object_position": null,
            "object_fit": null,
            "grid_auto_columns": null,
            "margin": null,
            "display": null,
            "left": null
          }
        },
        "77aef7c9371542cbaa3218184e912b95": {
          "model_module": "@jupyter-widgets/controls",
          "model_name": "ProgressStyleModel",
          "model_module_version": "1.5.0",
          "state": {
            "_view_name": "StyleView",
            "_model_name": "ProgressStyleModel",
            "description_width": "",
            "_view_module": "@jupyter-widgets/base",
            "_model_module_version": "1.5.0",
            "_view_count": null,
            "_view_module_version": "1.2.0",
            "bar_color": null,
            "_model_module": "@jupyter-widgets/controls"
          }
        },
        "947f196c1963445488fad5bf6c609d8c": {
          "model_module": "@jupyter-widgets/base",
          "model_name": "LayoutModel",
          "model_module_version": "1.2.0",
          "state": {
            "_view_name": "LayoutView",
            "grid_template_rows": null,
            "right": null,
            "justify_content": null,
            "_view_module": "@jupyter-widgets/base",
            "overflow": null,
            "_model_module_version": "1.2.0",
            "_view_count": null,
            "flex_flow": null,
            "width": null,
            "min_width": null,
            "border": null,
            "align_items": null,
            "bottom": null,
            "_model_module": "@jupyter-widgets/base",
            "top": null,
            "grid_column": null,
            "overflow_y": null,
            "overflow_x": null,
            "grid_auto_flow": null,
            "grid_area": null,
            "grid_template_columns": null,
            "flex": null,
            "_model_name": "LayoutModel",
            "justify_items": null,
            "grid_row": null,
            "max_height": null,
            "align_content": null,
            "visibility": null,
            "align_self": null,
            "height": null,
            "min_height": null,
            "padding": null,
            "grid_auto_rows": null,
            "grid_gap": null,
            "max_width": null,
            "order": null,
            "_view_module_version": "1.2.0",
            "grid_template_areas": null,
            "object_position": null,
            "object_fit": null,
            "grid_auto_columns": null,
            "margin": null,
            "display": null,
            "left": null
          }
        },
        "a43727e59c574b25b615c9b2c7235d04": {
          "model_module": "@jupyter-widgets/controls",
          "model_name": "DescriptionStyleModel",
          "model_module_version": "1.5.0",
          "state": {
            "_view_name": "StyleView",
            "_model_name": "DescriptionStyleModel",
            "description_width": "",
            "_view_module": "@jupyter-widgets/base",
            "_model_module_version": "1.5.0",
            "_view_count": null,
            "_view_module_version": "1.2.0",
            "_model_module": "@jupyter-widgets/controls"
          }
        },
        "765149300caf4646af5088cd573f8d18": {
          "model_module": "@jupyter-widgets/base",
          "model_name": "LayoutModel",
          "model_module_version": "1.2.0",
          "state": {
            "_view_name": "LayoutView",
            "grid_template_rows": null,
            "right": null,
            "justify_content": null,
            "_view_module": "@jupyter-widgets/base",
            "overflow": null,
            "_model_module_version": "1.2.0",
            "_view_count": null,
            "flex_flow": null,
            "width": null,
            "min_width": null,
            "border": null,
            "align_items": null,
            "bottom": null,
            "_model_module": "@jupyter-widgets/base",
            "top": null,
            "grid_column": null,
            "overflow_y": null,
            "overflow_x": null,
            "grid_auto_flow": null,
            "grid_area": null,
            "grid_template_columns": null,
            "flex": null,
            "_model_name": "LayoutModel",
            "justify_items": null,
            "grid_row": null,
            "max_height": null,
            "align_content": null,
            "visibility": null,
            "align_self": null,
            "height": null,
            "min_height": null,
            "padding": null,
            "grid_auto_rows": null,
            "grid_gap": null,
            "max_width": null,
            "order": null,
            "_view_module_version": "1.2.0",
            "grid_template_areas": null,
            "object_position": null,
            "object_fit": null,
            "grid_auto_columns": null,
            "margin": null,
            "display": null,
            "left": null
          }
        },
        "e770591217fe4167a26c6e4b1a125349": {
          "model_module": "@jupyter-widgets/controls",
          "model_name": "HBoxModel",
          "model_module_version": "1.5.0",
          "state": {
            "_view_name": "HBoxView",
            "_dom_classes": [],
            "_model_name": "HBoxModel",
            "_view_module": "@jupyter-widgets/controls",
            "_model_module_version": "1.5.0",
            "_view_count": null,
            "_view_module_version": "1.5.0",
            "box_style": "",
            "layout": "IPY_MODEL_d3cc2870ec704bc29b253ec98a2b6faf",
            "_model_module": "@jupyter-widgets/controls",
            "children": [
              "IPY_MODEL_50a216a4ff004382ac1ce74e1177b7ec",
              "IPY_MODEL_3e1d5f30eb2b420db33b055468343f60",
              "IPY_MODEL_a14847a5a9704bb488e53adb5ec56f06"
            ]
          }
        },
        "d3cc2870ec704bc29b253ec98a2b6faf": {
          "model_module": "@jupyter-widgets/base",
          "model_name": "LayoutModel",
          "model_module_version": "1.2.0",
          "state": {
            "_view_name": "LayoutView",
            "grid_template_rows": null,
            "right": null,
            "justify_content": null,
            "_view_module": "@jupyter-widgets/base",
            "overflow": null,
            "_model_module_version": "1.2.0",
            "_view_count": null,
            "flex_flow": null,
            "width": null,
            "min_width": null,
            "border": null,
            "align_items": null,
            "bottom": null,
            "_model_module": "@jupyter-widgets/base",
            "top": null,
            "grid_column": null,
            "overflow_y": null,
            "overflow_x": null,
            "grid_auto_flow": null,
            "grid_area": null,
            "grid_template_columns": null,
            "flex": null,
            "_model_name": "LayoutModel",
            "justify_items": null,
            "grid_row": null,
            "max_height": null,
            "align_content": null,
            "visibility": null,
            "align_self": null,
            "height": null,
            "min_height": null,
            "padding": null,
            "grid_auto_rows": null,
            "grid_gap": null,
            "max_width": null,
            "order": null,
            "_view_module_version": "1.2.0",
            "grid_template_areas": null,
            "object_position": null,
            "object_fit": null,
            "grid_auto_columns": null,
            "margin": null,
            "display": null,
            "left": null
          }
        },
        "50a216a4ff004382ac1ce74e1177b7ec": {
          "model_module": "@jupyter-widgets/controls",
          "model_name": "HTMLModel",
          "model_module_version": "1.5.0",
          "state": {
            "_view_name": "HTMLView",
            "style": "IPY_MODEL_e1d440f06258445d83e1ca799d237bce",
            "_dom_classes": [],
            "description": "",
            "_model_name": "HTMLModel",
            "placeholder": "​",
            "_view_module": "@jupyter-widgets/controls",
            "_model_module_version": "1.5.0",
            "value": "Downloading: 100%",
            "_view_count": null,
            "_view_module_version": "1.5.0",
            "description_tooltip": null,
            "_model_module": "@jupyter-widgets/controls",
            "layout": "IPY_MODEL_4fddcd69b3004556b63aab28d83e2830"
          }
        },
        "3e1d5f30eb2b420db33b055468343f60": {
          "model_module": "@jupyter-widgets/controls",
          "model_name": "FloatProgressModel",
          "model_module_version": "1.5.0",
          "state": {
            "_view_name": "ProgressView",
            "style": "IPY_MODEL_4d291c4d77184af5ad9fa9f9780f8f9c",
            "_dom_classes": [],
            "description": "",
            "_model_name": "FloatProgressModel",
            "bar_style": "success",
            "max": 788572,
            "_view_module": "@jupyter-widgets/controls",
            "_model_module_version": "1.5.0",
            "value": 788572,
            "_view_count": null,
            "_view_module_version": "1.5.0",
            "orientation": "horizontal",
            "min": 0,
            "description_tooltip": null,
            "_model_module": "@jupyter-widgets/controls",
            "layout": "IPY_MODEL_465bfdea55584bdaa40728e004b202f0"
          }
        },
        "a14847a5a9704bb488e53adb5ec56f06": {
          "model_module": "@jupyter-widgets/controls",
          "model_name": "HTMLModel",
          "model_module_version": "1.5.0",
          "state": {
            "_view_name": "HTMLView",
            "style": "IPY_MODEL_fb4b57e78ff24e09b1bcc9ef6dd72935",
            "_dom_classes": [],
            "description": "",
            "_model_name": "HTMLModel",
            "placeholder": "​",
            "_view_module": "@jupyter-widgets/controls",
            "_model_module_version": "1.5.0",
            "value": " 770k/770k [00:00&lt;00:00, 821kB/s]",
            "_view_count": null,
            "_view_module_version": "1.5.0",
            "description_tooltip": null,
            "_model_module": "@jupyter-widgets/controls",
            "layout": "IPY_MODEL_79ceee84ae654e44b9a596abf374fa09"
          }
        },
        "e1d440f06258445d83e1ca799d237bce": {
          "model_module": "@jupyter-widgets/controls",
          "model_name": "DescriptionStyleModel",
          "model_module_version": "1.5.0",
          "state": {
            "_view_name": "StyleView",
            "_model_name": "DescriptionStyleModel",
            "description_width": "",
            "_view_module": "@jupyter-widgets/base",
            "_model_module_version": "1.5.0",
            "_view_count": null,
            "_view_module_version": "1.2.0",
            "_model_module": "@jupyter-widgets/controls"
          }
        },
        "4fddcd69b3004556b63aab28d83e2830": {
          "model_module": "@jupyter-widgets/base",
          "model_name": "LayoutModel",
          "model_module_version": "1.2.0",
          "state": {
            "_view_name": "LayoutView",
            "grid_template_rows": null,
            "right": null,
            "justify_content": null,
            "_view_module": "@jupyter-widgets/base",
            "overflow": null,
            "_model_module_version": "1.2.0",
            "_view_count": null,
            "flex_flow": null,
            "width": null,
            "min_width": null,
            "border": null,
            "align_items": null,
            "bottom": null,
            "_model_module": "@jupyter-widgets/base",
            "top": null,
            "grid_column": null,
            "overflow_y": null,
            "overflow_x": null,
            "grid_auto_flow": null,
            "grid_area": null,
            "grid_template_columns": null,
            "flex": null,
            "_model_name": "LayoutModel",
            "justify_items": null,
            "grid_row": null,
            "max_height": null,
            "align_content": null,
            "visibility": null,
            "align_self": null,
            "height": null,
            "min_height": null,
            "padding": null,
            "grid_auto_rows": null,
            "grid_gap": null,
            "max_width": null,
            "order": null,
            "_view_module_version": "1.2.0",
            "grid_template_areas": null,
            "object_position": null,
            "object_fit": null,
            "grid_auto_columns": null,
            "margin": null,
            "display": null,
            "left": null
          }
        },
        "4d291c4d77184af5ad9fa9f9780f8f9c": {
          "model_module": "@jupyter-widgets/controls",
          "model_name": "ProgressStyleModel",
          "model_module_version": "1.5.0",
          "state": {
            "_view_name": "StyleView",
            "_model_name": "ProgressStyleModel",
            "description_width": "",
            "_view_module": "@jupyter-widgets/base",
            "_model_module_version": "1.5.0",
            "_view_count": null,
            "_view_module_version": "1.2.0",
            "bar_color": null,
            "_model_module": "@jupyter-widgets/controls"
          }
        },
        "465bfdea55584bdaa40728e004b202f0": {
          "model_module": "@jupyter-widgets/base",
          "model_name": "LayoutModel",
          "model_module_version": "1.2.0",
          "state": {
            "_view_name": "LayoutView",
            "grid_template_rows": null,
            "right": null,
            "justify_content": null,
            "_view_module": "@jupyter-widgets/base",
            "overflow": null,
            "_model_module_version": "1.2.0",
            "_view_count": null,
            "flex_flow": null,
            "width": null,
            "min_width": null,
            "border": null,
            "align_items": null,
            "bottom": null,
            "_model_module": "@jupyter-widgets/base",
            "top": null,
            "grid_column": null,
            "overflow_y": null,
            "overflow_x": null,
            "grid_auto_flow": null,
            "grid_area": null,
            "grid_template_columns": null,
            "flex": null,
            "_model_name": "LayoutModel",
            "justify_items": null,
            "grid_row": null,
            "max_height": null,
            "align_content": null,
            "visibility": null,
            "align_self": null,
            "height": null,
            "min_height": null,
            "padding": null,
            "grid_auto_rows": null,
            "grid_gap": null,
            "max_width": null,
            "order": null,
            "_view_module_version": "1.2.0",
            "grid_template_areas": null,
            "object_position": null,
            "object_fit": null,
            "grid_auto_columns": null,
            "margin": null,
            "display": null,
            "left": null
          }
        },
        "fb4b57e78ff24e09b1bcc9ef6dd72935": {
          "model_module": "@jupyter-widgets/controls",
          "model_name": "DescriptionStyleModel",
          "model_module_version": "1.5.0",
          "state": {
            "_view_name": "StyleView",
            "_model_name": "DescriptionStyleModel",
            "description_width": "",
            "_view_module": "@jupyter-widgets/base",
            "_model_module_version": "1.5.0",
            "_view_count": null,
            "_view_module_version": "1.2.0",
            "_model_module": "@jupyter-widgets/controls"
          }
        },
        "79ceee84ae654e44b9a596abf374fa09": {
          "model_module": "@jupyter-widgets/base",
          "model_name": "LayoutModel",
          "model_module_version": "1.2.0",
          "state": {
            "_view_name": "LayoutView",
            "grid_template_rows": null,
            "right": null,
            "justify_content": null,
            "_view_module": "@jupyter-widgets/base",
            "overflow": null,
            "_model_module_version": "1.2.0",
            "_view_count": null,
            "flex_flow": null,
            "width": null,
            "min_width": null,
            "border": null,
            "align_items": null,
            "bottom": null,
            "_model_module": "@jupyter-widgets/base",
            "top": null,
            "grid_column": null,
            "overflow_y": null,
            "overflow_x": null,
            "grid_auto_flow": null,
            "grid_area": null,
            "grid_template_columns": null,
            "flex": null,
            "_model_name": "LayoutModel",
            "justify_items": null,
            "grid_row": null,
            "max_height": null,
            "align_content": null,
            "visibility": null,
            "align_self": null,
            "height": null,
            "min_height": null,
            "padding": null,
            "grid_auto_rows": null,
            "grid_gap": null,
            "max_width": null,
            "order": null,
            "_view_module_version": "1.2.0",
            "grid_template_areas": null,
            "object_position": null,
            "object_fit": null,
            "grid_auto_columns": null,
            "margin": null,
            "display": null,
            "left": null
          }
        },
        "2a7e0ce5c511482f81d1bbaebf35f9d5": {
          "model_module": "@jupyter-widgets/controls",
          "model_name": "HBoxModel",
          "model_module_version": "1.5.0",
          "state": {
            "_view_name": "HBoxView",
            "_dom_classes": [],
            "_model_name": "HBoxModel",
            "_view_module": "@jupyter-widgets/controls",
            "_model_module_version": "1.5.0",
            "_view_count": null,
            "_view_module_version": "1.5.0",
            "box_style": "",
            "layout": "IPY_MODEL_8bf56f9a22144559b46171f4d34a5338",
            "_model_module": "@jupyter-widgets/controls",
            "children": [
              "IPY_MODEL_96d4c53abb594f6b9973ae7e43fb0e68",
              "IPY_MODEL_c3826a31999e40cf87083ff64aae2b3a",
              "IPY_MODEL_cf877223d7d2445c89381a19e23acd1c"
            ]
          }
        },
        "8bf56f9a22144559b46171f4d34a5338": {
          "model_module": "@jupyter-widgets/base",
          "model_name": "LayoutModel",
          "model_module_version": "1.2.0",
          "state": {
            "_view_name": "LayoutView",
            "grid_template_rows": null,
            "right": null,
            "justify_content": null,
            "_view_module": "@jupyter-widgets/base",
            "overflow": null,
            "_model_module_version": "1.2.0",
            "_view_count": null,
            "flex_flow": null,
            "width": null,
            "min_width": null,
            "border": null,
            "align_items": null,
            "bottom": null,
            "_model_module": "@jupyter-widgets/base",
            "top": null,
            "grid_column": null,
            "overflow_y": null,
            "overflow_x": null,
            "grid_auto_flow": null,
            "grid_area": null,
            "grid_template_columns": null,
            "flex": null,
            "_model_name": "LayoutModel",
            "justify_items": null,
            "grid_row": null,
            "max_height": null,
            "align_content": null,
            "visibility": null,
            "align_self": null,
            "height": null,
            "min_height": null,
            "padding": null,
            "grid_auto_rows": null,
            "grid_gap": null,
            "max_width": null,
            "order": null,
            "_view_module_version": "1.2.0",
            "grid_template_areas": null,
            "object_position": null,
            "object_fit": null,
            "grid_auto_columns": null,
            "margin": null,
            "display": null,
            "left": null
          }
        },
        "96d4c53abb594f6b9973ae7e43fb0e68": {
          "model_module": "@jupyter-widgets/controls",
          "model_name": "HTMLModel",
          "model_module_version": "1.5.0",
          "state": {
            "_view_name": "HTMLView",
            "style": "IPY_MODEL_d2da41d03c104a77ba0d15f5df5cdbf3",
            "_dom_classes": [],
            "description": "",
            "_model_name": "HTMLModel",
            "placeholder": "​",
            "_view_module": "@jupyter-widgets/controls",
            "_model_module_version": "1.5.0",
            "value": "Downloading: 100%",
            "_view_count": null,
            "_view_module_version": "1.5.0",
            "description_tooltip": null,
            "_model_module": "@jupyter-widgets/controls",
            "layout": "IPY_MODEL_e0d67f6d9af14625af0c9a2155a49af1"
          }
        },
        "c3826a31999e40cf87083ff64aae2b3a": {
          "model_module": "@jupyter-widgets/controls",
          "model_name": "FloatProgressModel",
          "model_module_version": "1.5.0",
          "state": {
            "_view_name": "ProgressView",
            "style": "IPY_MODEL_df6bdc9620a245419bacc543af3ec3bb",
            "_dom_classes": [],
            "description": "",
            "_model_name": "FloatProgressModel",
            "bar_style": "success",
            "max": 816966,
            "_view_module": "@jupyter-widgets/controls",
            "_model_module_version": "1.5.0",
            "value": 816966,
            "_view_count": null,
            "_view_module_version": "1.5.0",
            "orientation": "horizontal",
            "min": 0,
            "description_tooltip": null,
            "_model_module": "@jupyter-widgets/controls",
            "layout": "IPY_MODEL_f6abc8e69d7049a39484be4cb308edaf"
          }
        },
        "cf877223d7d2445c89381a19e23acd1c": {
          "model_module": "@jupyter-widgets/controls",
          "model_name": "HTMLModel",
          "model_module_version": "1.5.0",
          "state": {
            "_view_name": "HTMLView",
            "style": "IPY_MODEL_f8d9d4e9ebf64759a9619ba700f08643",
            "_dom_classes": [],
            "description": "",
            "_model_name": "HTMLModel",
            "placeholder": "​",
            "_view_module": "@jupyter-widgets/controls",
            "_model_module_version": "1.5.0",
            "value": " 798k/798k [00:00&lt;00:00, 885kB/s]",
            "_view_count": null,
            "_view_module_version": "1.5.0",
            "description_tooltip": null,
            "_model_module": "@jupyter-widgets/controls",
            "layout": "IPY_MODEL_1cb3f93c1e8c4b6896677b0c9503505a"
          }
        },
        "d2da41d03c104a77ba0d15f5df5cdbf3": {
          "model_module": "@jupyter-widgets/controls",
          "model_name": "DescriptionStyleModel",
          "model_module_version": "1.5.0",
          "state": {
            "_view_name": "StyleView",
            "_model_name": "DescriptionStyleModel",
            "description_width": "",
            "_view_module": "@jupyter-widgets/base",
            "_model_module_version": "1.5.0",
            "_view_count": null,
            "_view_module_version": "1.2.0",
            "_model_module": "@jupyter-widgets/controls"
          }
        },
        "e0d67f6d9af14625af0c9a2155a49af1": {
          "model_module": "@jupyter-widgets/base",
          "model_name": "LayoutModel",
          "model_module_version": "1.2.0",
          "state": {
            "_view_name": "LayoutView",
            "grid_template_rows": null,
            "right": null,
            "justify_content": null,
            "_view_module": "@jupyter-widgets/base",
            "overflow": null,
            "_model_module_version": "1.2.0",
            "_view_count": null,
            "flex_flow": null,
            "width": null,
            "min_width": null,
            "border": null,
            "align_items": null,
            "bottom": null,
            "_model_module": "@jupyter-widgets/base",
            "top": null,
            "grid_column": null,
            "overflow_y": null,
            "overflow_x": null,
            "grid_auto_flow": null,
            "grid_area": null,
            "grid_template_columns": null,
            "flex": null,
            "_model_name": "LayoutModel",
            "justify_items": null,
            "grid_row": null,
            "max_height": null,
            "align_content": null,
            "visibility": null,
            "align_self": null,
            "height": null,
            "min_height": null,
            "padding": null,
            "grid_auto_rows": null,
            "grid_gap": null,
            "max_width": null,
            "order": null,
            "_view_module_version": "1.2.0",
            "grid_template_areas": null,
            "object_position": null,
            "object_fit": null,
            "grid_auto_columns": null,
            "margin": null,
            "display": null,
            "left": null
          }
        },
        "df6bdc9620a245419bacc543af3ec3bb": {
          "model_module": "@jupyter-widgets/controls",
          "model_name": "ProgressStyleModel",
          "model_module_version": "1.5.0",
          "state": {
            "_view_name": "StyleView",
            "_model_name": "ProgressStyleModel",
            "description_width": "",
            "_view_module": "@jupyter-widgets/base",
            "_model_module_version": "1.5.0",
            "_view_count": null,
            "_view_module_version": "1.2.0",
            "bar_color": null,
            "_model_module": "@jupyter-widgets/controls"
          }
        },
        "f6abc8e69d7049a39484be4cb308edaf": {
          "model_module": "@jupyter-widgets/base",
          "model_name": "LayoutModel",
          "model_module_version": "1.2.0",
          "state": {
            "_view_name": "LayoutView",
            "grid_template_rows": null,
            "right": null,
            "justify_content": null,
            "_view_module": "@jupyter-widgets/base",
            "overflow": null,
            "_model_module_version": "1.2.0",
            "_view_count": null,
            "flex_flow": null,
            "width": null,
            "min_width": null,
            "border": null,
            "align_items": null,
            "bottom": null,
            "_model_module": "@jupyter-widgets/base",
            "top": null,
            "grid_column": null,
            "overflow_y": null,
            "overflow_x": null,
            "grid_auto_flow": null,
            "grid_area": null,
            "grid_template_columns": null,
            "flex": null,
            "_model_name": "LayoutModel",
            "justify_items": null,
            "grid_row": null,
            "max_height": null,
            "align_content": null,
            "visibility": null,
            "align_self": null,
            "height": null,
            "min_height": null,
            "padding": null,
            "grid_auto_rows": null,
            "grid_gap": null,
            "max_width": null,
            "order": null,
            "_view_module_version": "1.2.0",
            "grid_template_areas": null,
            "object_position": null,
            "object_fit": null,
            "grid_auto_columns": null,
            "margin": null,
            "display": null,
            "left": null
          }
        },
        "f8d9d4e9ebf64759a9619ba700f08643": {
          "model_module": "@jupyter-widgets/controls",
          "model_name": "DescriptionStyleModel",
          "model_module_version": "1.5.0",
          "state": {
            "_view_name": "StyleView",
            "_model_name": "DescriptionStyleModel",
            "description_width": "",
            "_view_module": "@jupyter-widgets/base",
            "_model_module_version": "1.5.0",
            "_view_count": null,
            "_view_module_version": "1.2.0",
            "_model_module": "@jupyter-widgets/controls"
          }
        },
        "1cb3f93c1e8c4b6896677b0c9503505a": {
          "model_module": "@jupyter-widgets/base",
          "model_name": "LayoutModel",
          "model_module_version": "1.2.0",
          "state": {
            "_view_name": "LayoutView",
            "grid_template_rows": null,
            "right": null,
            "justify_content": null,
            "_view_module": "@jupyter-widgets/base",
            "overflow": null,
            "_model_module_version": "1.2.0",
            "_view_count": null,
            "flex_flow": null,
            "width": null,
            "min_width": null,
            "border": null,
            "align_items": null,
            "bottom": null,
            "_model_module": "@jupyter-widgets/base",
            "top": null,
            "grid_column": null,
            "overflow_y": null,
            "overflow_x": null,
            "grid_auto_flow": null,
            "grid_area": null,
            "grid_template_columns": null,
            "flex": null,
            "_model_name": "LayoutModel",
            "justify_items": null,
            "grid_row": null,
            "max_height": null,
            "align_content": null,
            "visibility": null,
            "align_self": null,
            "height": null,
            "min_height": null,
            "padding": null,
            "grid_auto_rows": null,
            "grid_gap": null,
            "max_width": null,
            "order": null,
            "_view_module_version": "1.2.0",
            "grid_template_areas": null,
            "object_position": null,
            "object_fit": null,
            "grid_auto_columns": null,
            "margin": null,
            "display": null,
            "left": null
          }
        },
        "7bcde05462a94048b1ab2cc6b00654da": {
          "model_module": "@jupyter-widgets/controls",
          "model_name": "HBoxModel",
          "model_module_version": "1.5.0",
          "state": {
            "_view_name": "HBoxView",
            "_dom_classes": [],
            "_model_name": "HBoxModel",
            "_view_module": "@jupyter-widgets/controls",
            "_model_module_version": "1.5.0",
            "_view_count": null,
            "_view_module_version": "1.5.0",
            "box_style": "",
            "layout": "IPY_MODEL_d14b9a8438f64e59bf1172d720a6ff6b",
            "_model_module": "@jupyter-widgets/controls",
            "children": [
              "IPY_MODEL_9bfeba7b1a69441c86e8e9c07b91b805",
              "IPY_MODEL_a84c22b883a14b868c1b199c72f402ce",
              "IPY_MODEL_f29b8e9129e14aae92a11557a42f5227"
            ]
          }
        },
        "d14b9a8438f64e59bf1172d720a6ff6b": {
          "model_module": "@jupyter-widgets/base",
          "model_name": "LayoutModel",
          "model_module_version": "1.2.0",
          "state": {
            "_view_name": "LayoutView",
            "grid_template_rows": null,
            "right": null,
            "justify_content": null,
            "_view_module": "@jupyter-widgets/base",
            "overflow": null,
            "_model_module_version": "1.2.0",
            "_view_count": null,
            "flex_flow": null,
            "width": null,
            "min_width": null,
            "border": null,
            "align_items": null,
            "bottom": null,
            "_model_module": "@jupyter-widgets/base",
            "top": null,
            "grid_column": null,
            "overflow_y": null,
            "overflow_x": null,
            "grid_auto_flow": null,
            "grid_area": null,
            "grid_template_columns": null,
            "flex": null,
            "_model_name": "LayoutModel",
            "justify_items": null,
            "grid_row": null,
            "max_height": null,
            "align_content": null,
            "visibility": null,
            "align_self": null,
            "height": null,
            "min_height": null,
            "padding": null,
            "grid_auto_rows": null,
            "grid_gap": null,
            "max_width": null,
            "order": null,
            "_view_module_version": "1.2.0",
            "grid_template_areas": null,
            "object_position": null,
            "object_fit": null,
            "grid_auto_columns": null,
            "margin": null,
            "display": null,
            "left": null
          }
        },
        "9bfeba7b1a69441c86e8e9c07b91b805": {
          "model_module": "@jupyter-widgets/controls",
          "model_name": "HTMLModel",
          "model_module_version": "1.5.0",
          "state": {
            "_view_name": "HTMLView",
            "style": "IPY_MODEL_1e215f3639c447309bd2a36f9d4dac1a",
            "_dom_classes": [],
            "description": "",
            "_model_name": "HTMLModel",
            "placeholder": "​",
            "_view_module": "@jupyter-widgets/controls",
            "_model_module_version": "1.5.0",
            "value": "Downloading: 100%",
            "_view_count": null,
            "_view_module_version": "1.5.0",
            "description_tooltip": null,
            "_model_module": "@jupyter-widgets/controls",
            "layout": "IPY_MODEL_0551e3628e724793acc744451555e264"
          }
        },
        "a84c22b883a14b868c1b199c72f402ce": {
          "model_module": "@jupyter-widgets/controls",
          "model_name": "FloatProgressModel",
          "model_module_version": "1.5.0",
          "state": {
            "_view_name": "ProgressView",
            "style": "IPY_MODEL_77bf236757cc424584ae4244678b1dba",
            "_dom_classes": [],
            "description": "",
            "_model_name": "FloatProgressModel",
            "bar_style": "success",
            "max": 1392122,
            "_view_module": "@jupyter-widgets/controls",
            "_model_module_version": "1.5.0",
            "value": 1392122,
            "_view_count": null,
            "_view_module_version": "1.5.0",
            "orientation": "horizontal",
            "min": 0,
            "description_tooltip": null,
            "_model_module": "@jupyter-widgets/controls",
            "layout": "IPY_MODEL_22e7ad51d0254908ab4578affccefb65"
          }
        },
        "f29b8e9129e14aae92a11557a42f5227": {
          "model_module": "@jupyter-widgets/controls",
          "model_name": "HTMLModel",
          "model_module_version": "1.5.0",
          "state": {
            "_view_name": "HTMLView",
            "style": "IPY_MODEL_6c307d6e3e204e8ab370ac484a86392f",
            "_dom_classes": [],
            "description": "",
            "_model_name": "HTMLModel",
            "placeholder": "​",
            "_view_module": "@jupyter-widgets/controls",
            "_model_module_version": "1.5.0",
            "value": " 1.33M/1.33M [00:00&lt;00:00, 2.80MB/s]",
            "_view_count": null,
            "_view_module_version": "1.5.0",
            "description_tooltip": null,
            "_model_module": "@jupyter-widgets/controls",
            "layout": "IPY_MODEL_35060c0eb8f340bfa85e6df5b5dde0e5"
          }
        },
        "1e215f3639c447309bd2a36f9d4dac1a": {
          "model_module": "@jupyter-widgets/controls",
          "model_name": "DescriptionStyleModel",
          "model_module_version": "1.5.0",
          "state": {
            "_view_name": "StyleView",
            "_model_name": "DescriptionStyleModel",
            "description_width": "",
            "_view_module": "@jupyter-widgets/base",
            "_model_module_version": "1.5.0",
            "_view_count": null,
            "_view_module_version": "1.2.0",
            "_model_module": "@jupyter-widgets/controls"
          }
        },
        "0551e3628e724793acc744451555e264": {
          "model_module": "@jupyter-widgets/base",
          "model_name": "LayoutModel",
          "model_module_version": "1.2.0",
          "state": {
            "_view_name": "LayoutView",
            "grid_template_rows": null,
            "right": null,
            "justify_content": null,
            "_view_module": "@jupyter-widgets/base",
            "overflow": null,
            "_model_module_version": "1.2.0",
            "_view_count": null,
            "flex_flow": null,
            "width": null,
            "min_width": null,
            "border": null,
            "align_items": null,
            "bottom": null,
            "_model_module": "@jupyter-widgets/base",
            "top": null,
            "grid_column": null,
            "overflow_y": null,
            "overflow_x": null,
            "grid_auto_flow": null,
            "grid_area": null,
            "grid_template_columns": null,
            "flex": null,
            "_model_name": "LayoutModel",
            "justify_items": null,
            "grid_row": null,
            "max_height": null,
            "align_content": null,
            "visibility": null,
            "align_self": null,
            "height": null,
            "min_height": null,
            "padding": null,
            "grid_auto_rows": null,
            "grid_gap": null,
            "max_width": null,
            "order": null,
            "_view_module_version": "1.2.0",
            "grid_template_areas": null,
            "object_position": null,
            "object_fit": null,
            "grid_auto_columns": null,
            "margin": null,
            "display": null,
            "left": null
          }
        },
        "77bf236757cc424584ae4244678b1dba": {
          "model_module": "@jupyter-widgets/controls",
          "model_name": "ProgressStyleModel",
          "model_module_version": "1.5.0",
          "state": {
            "_view_name": "StyleView",
            "_model_name": "ProgressStyleModel",
            "description_width": "",
            "_view_module": "@jupyter-widgets/base",
            "_model_module_version": "1.5.0",
            "_view_count": null,
            "_view_module_version": "1.2.0",
            "bar_color": null,
            "_model_module": "@jupyter-widgets/controls"
          }
        },
        "22e7ad51d0254908ab4578affccefb65": {
          "model_module": "@jupyter-widgets/base",
          "model_name": "LayoutModel",
          "model_module_version": "1.2.0",
          "state": {
            "_view_name": "LayoutView",
            "grid_template_rows": null,
            "right": null,
            "justify_content": null,
            "_view_module": "@jupyter-widgets/base",
            "overflow": null,
            "_model_module_version": "1.2.0",
            "_view_count": null,
            "flex_flow": null,
            "width": null,
            "min_width": null,
            "border": null,
            "align_items": null,
            "bottom": null,
            "_model_module": "@jupyter-widgets/base",
            "top": null,
            "grid_column": null,
            "overflow_y": null,
            "overflow_x": null,
            "grid_auto_flow": null,
            "grid_area": null,
            "grid_template_columns": null,
            "flex": null,
            "_model_name": "LayoutModel",
            "justify_items": null,
            "grid_row": null,
            "max_height": null,
            "align_content": null,
            "visibility": null,
            "align_self": null,
            "height": null,
            "min_height": null,
            "padding": null,
            "grid_auto_rows": null,
            "grid_gap": null,
            "max_width": null,
            "order": null,
            "_view_module_version": "1.2.0",
            "grid_template_areas": null,
            "object_position": null,
            "object_fit": null,
            "grid_auto_columns": null,
            "margin": null,
            "display": null,
            "left": null
          }
        },
        "6c307d6e3e204e8ab370ac484a86392f": {
          "model_module": "@jupyter-widgets/controls",
          "model_name": "DescriptionStyleModel",
          "model_module_version": "1.5.0",
          "state": {
            "_view_name": "StyleView",
            "_model_name": "DescriptionStyleModel",
            "description_width": "",
            "_view_module": "@jupyter-widgets/base",
            "_model_module_version": "1.5.0",
            "_view_count": null,
            "_view_module_version": "1.2.0",
            "_model_module": "@jupyter-widgets/controls"
          }
        },
        "35060c0eb8f340bfa85e6df5b5dde0e5": {
          "model_module": "@jupyter-widgets/base",
          "model_name": "LayoutModel",
          "model_module_version": "1.2.0",
          "state": {
            "_view_name": "LayoutView",
            "grid_template_rows": null,
            "right": null,
            "justify_content": null,
            "_view_module": "@jupyter-widgets/base",
            "overflow": null,
            "_model_module_version": "1.2.0",
            "_view_count": null,
            "flex_flow": null,
            "width": null,
            "min_width": null,
            "border": null,
            "align_items": null,
            "bottom": null,
            "_model_module": "@jupyter-widgets/base",
            "top": null,
            "grid_column": null,
            "overflow_y": null,
            "overflow_x": null,
            "grid_auto_flow": null,
            "grid_area": null,
            "grid_template_columns": null,
            "flex": null,
            "_model_name": "LayoutModel",
            "justify_items": null,
            "grid_row": null,
            "max_height": null,
            "align_content": null,
            "visibility": null,
            "align_self": null,
            "height": null,
            "min_height": null,
            "padding": null,
            "grid_auto_rows": null,
            "grid_gap": null,
            "max_width": null,
            "order": null,
            "_view_module_version": "1.2.0",
            "grid_template_areas": null,
            "object_position": null,
            "object_fit": null,
            "grid_auto_columns": null,
            "margin": null,
            "display": null,
            "left": null
          }
        },
        "236e12c3665b47a4bfa021e01af28685": {
          "model_module": "@jupyter-widgets/controls",
          "model_name": "HBoxModel",
          "model_module_version": "1.5.0",
          "state": {
            "_view_name": "HBoxView",
            "_dom_classes": [],
            "_model_name": "HBoxModel",
            "_view_module": "@jupyter-widgets/controls",
            "_model_module_version": "1.5.0",
            "_view_count": null,
            "_view_module_version": "1.5.0",
            "box_style": "",
            "layout": "IPY_MODEL_f024a6bd59244c9fb8f8121aacd4eb22",
            "_model_module": "@jupyter-widgets/controls",
            "children": [
              "IPY_MODEL_04654e5aff30494d8b3b55a05a36541c",
              "IPY_MODEL_1093543730e74266bcc5f8cd44bfd8d1",
              "IPY_MODEL_9f38c077aaa540b3b0f980e4b9437258"
            ]
          }
        },
        "f024a6bd59244c9fb8f8121aacd4eb22": {
          "model_module": "@jupyter-widgets/base",
          "model_name": "LayoutModel",
          "model_module_version": "1.2.0",
          "state": {
            "_view_name": "LayoutView",
            "grid_template_rows": null,
            "right": null,
            "justify_content": null,
            "_view_module": "@jupyter-widgets/base",
            "overflow": null,
            "_model_module_version": "1.2.0",
            "_view_count": null,
            "flex_flow": null,
            "width": null,
            "min_width": null,
            "border": null,
            "align_items": null,
            "bottom": null,
            "_model_module": "@jupyter-widgets/base",
            "top": null,
            "grid_column": null,
            "overflow_y": null,
            "overflow_x": null,
            "grid_auto_flow": null,
            "grid_area": null,
            "grid_template_columns": null,
            "flex": null,
            "_model_name": "LayoutModel",
            "justify_items": null,
            "grid_row": null,
            "max_height": null,
            "align_content": null,
            "visibility": null,
            "align_self": null,
            "height": null,
            "min_height": null,
            "padding": null,
            "grid_auto_rows": null,
            "grid_gap": null,
            "max_width": null,
            "order": null,
            "_view_module_version": "1.2.0",
            "grid_template_areas": null,
            "object_position": null,
            "object_fit": null,
            "grid_auto_columns": null,
            "margin": null,
            "display": null,
            "left": null
          }
        },
        "04654e5aff30494d8b3b55a05a36541c": {
          "model_module": "@jupyter-widgets/controls",
          "model_name": "HTMLModel",
          "model_module_version": "1.5.0",
          "state": {
            "_view_name": "HTMLView",
            "style": "IPY_MODEL_2b3cc9ff27824f478b945bbef8a20f22",
            "_dom_classes": [],
            "description": "",
            "_model_name": "HTMLModel",
            "placeholder": "​",
            "_view_module": "@jupyter-widgets/controls",
            "_model_module_version": "1.5.0",
            "value": "100%",
            "_view_count": null,
            "_view_module_version": "1.5.0",
            "description_tooltip": null,
            "_model_module": "@jupyter-widgets/controls",
            "layout": "IPY_MODEL_ae8c508a74694d7baaf6407b42dd3cd7"
          }
        },
        "1093543730e74266bcc5f8cd44bfd8d1": {
          "model_module": "@jupyter-widgets/controls",
          "model_name": "FloatProgressModel",
          "model_module_version": "1.5.0",
          "state": {
            "_view_name": "ProgressView",
            "style": "IPY_MODEL_2560b4d3a9664621814e2ff58b4a50e5",
            "_dom_classes": [],
            "description": "",
            "_model_name": "FloatProgressModel",
            "bar_style": "success",
            "max": 611,
            "_view_module": "@jupyter-widgets/controls",
            "_model_module_version": "1.5.0",
            "value": 611,
            "_view_count": null,
            "_view_module_version": "1.5.0",
            "orientation": "horizontal",
            "min": 0,
            "description_tooltip": null,
            "_model_module": "@jupyter-widgets/controls",
            "layout": "IPY_MODEL_ca06a7e75e5e4469b4a844e18fc090d0"
          }
        },
        "9f38c077aaa540b3b0f980e4b9437258": {
          "model_module": "@jupyter-widgets/controls",
          "model_name": "HTMLModel",
          "model_module_version": "1.5.0",
          "state": {
            "_view_name": "HTMLView",
            "style": "IPY_MODEL_9c5661da30b84c029fadec623fb24f43",
            "_dom_classes": [],
            "description": "",
            "_model_name": "HTMLModel",
            "placeholder": "​",
            "_view_module": "@jupyter-widgets/controls",
            "_model_module_version": "1.5.0",
            "value": " 611/611 [03:22&lt;00:00,  3.84ba/s]",
            "_view_count": null,
            "_view_module_version": "1.5.0",
            "description_tooltip": null,
            "_model_module": "@jupyter-widgets/controls",
            "layout": "IPY_MODEL_c363d67b883742679bab4afc1ab90118"
          }
        },
        "2b3cc9ff27824f478b945bbef8a20f22": {
          "model_module": "@jupyter-widgets/controls",
          "model_name": "DescriptionStyleModel",
          "model_module_version": "1.5.0",
          "state": {
            "_view_name": "StyleView",
            "_model_name": "DescriptionStyleModel",
            "description_width": "",
            "_view_module": "@jupyter-widgets/base",
            "_model_module_version": "1.5.0",
            "_view_count": null,
            "_view_module_version": "1.2.0",
            "_model_module": "@jupyter-widgets/controls"
          }
        },
        "ae8c508a74694d7baaf6407b42dd3cd7": {
          "model_module": "@jupyter-widgets/base",
          "model_name": "LayoutModel",
          "model_module_version": "1.2.0",
          "state": {
            "_view_name": "LayoutView",
            "grid_template_rows": null,
            "right": null,
            "justify_content": null,
            "_view_module": "@jupyter-widgets/base",
            "overflow": null,
            "_model_module_version": "1.2.0",
            "_view_count": null,
            "flex_flow": null,
            "width": null,
            "min_width": null,
            "border": null,
            "align_items": null,
            "bottom": null,
            "_model_module": "@jupyter-widgets/base",
            "top": null,
            "grid_column": null,
            "overflow_y": null,
            "overflow_x": null,
            "grid_auto_flow": null,
            "grid_area": null,
            "grid_template_columns": null,
            "flex": null,
            "_model_name": "LayoutModel",
            "justify_items": null,
            "grid_row": null,
            "max_height": null,
            "align_content": null,
            "visibility": null,
            "align_self": null,
            "height": null,
            "min_height": null,
            "padding": null,
            "grid_auto_rows": null,
            "grid_gap": null,
            "max_width": null,
            "order": null,
            "_view_module_version": "1.2.0",
            "grid_template_areas": null,
            "object_position": null,
            "object_fit": null,
            "grid_auto_columns": null,
            "margin": null,
            "display": null,
            "left": null
          }
        },
        "2560b4d3a9664621814e2ff58b4a50e5": {
          "model_module": "@jupyter-widgets/controls",
          "model_name": "ProgressStyleModel",
          "model_module_version": "1.5.0",
          "state": {
            "_view_name": "StyleView",
            "_model_name": "ProgressStyleModel",
            "description_width": "",
            "_view_module": "@jupyter-widgets/base",
            "_model_module_version": "1.5.0",
            "_view_count": null,
            "_view_module_version": "1.2.0",
            "bar_color": null,
            "_model_module": "@jupyter-widgets/controls"
          }
        },
        "ca06a7e75e5e4469b4a844e18fc090d0": {
          "model_module": "@jupyter-widgets/base",
          "model_name": "LayoutModel",
          "model_module_version": "1.2.0",
          "state": {
            "_view_name": "LayoutView",
            "grid_template_rows": null,
            "right": null,
            "justify_content": null,
            "_view_module": "@jupyter-widgets/base",
            "overflow": null,
            "_model_module_version": "1.2.0",
            "_view_count": null,
            "flex_flow": null,
            "width": null,
            "min_width": null,
            "border": null,
            "align_items": null,
            "bottom": null,
            "_model_module": "@jupyter-widgets/base",
            "top": null,
            "grid_column": null,
            "overflow_y": null,
            "overflow_x": null,
            "grid_auto_flow": null,
            "grid_area": null,
            "grid_template_columns": null,
            "flex": null,
            "_model_name": "LayoutModel",
            "justify_items": null,
            "grid_row": null,
            "max_height": null,
            "align_content": null,
            "visibility": null,
            "align_self": null,
            "height": null,
            "min_height": null,
            "padding": null,
            "grid_auto_rows": null,
            "grid_gap": null,
            "max_width": null,
            "order": null,
            "_view_module_version": "1.2.0",
            "grid_template_areas": null,
            "object_position": null,
            "object_fit": null,
            "grid_auto_columns": null,
            "margin": null,
            "display": null,
            "left": null
          }
        },
        "9c5661da30b84c029fadec623fb24f43": {
          "model_module": "@jupyter-widgets/controls",
          "model_name": "DescriptionStyleModel",
          "model_module_version": "1.5.0",
          "state": {
            "_view_name": "StyleView",
            "_model_name": "DescriptionStyleModel",
            "description_width": "",
            "_view_module": "@jupyter-widgets/base",
            "_model_module_version": "1.5.0",
            "_view_count": null,
            "_view_module_version": "1.2.0",
            "_model_module": "@jupyter-widgets/controls"
          }
        },
        "c363d67b883742679bab4afc1ab90118": {
          "model_module": "@jupyter-widgets/base",
          "model_name": "LayoutModel",
          "model_module_version": "1.2.0",
          "state": {
            "_view_name": "LayoutView",
            "grid_template_rows": null,
            "right": null,
            "justify_content": null,
            "_view_module": "@jupyter-widgets/base",
            "overflow": null,
            "_model_module_version": "1.2.0",
            "_view_count": null,
            "flex_flow": null,
            "width": null,
            "min_width": null,
            "border": null,
            "align_items": null,
            "bottom": null,
            "_model_module": "@jupyter-widgets/base",
            "top": null,
            "grid_column": null,
            "overflow_y": null,
            "overflow_x": null,
            "grid_auto_flow": null,
            "grid_area": null,
            "grid_template_columns": null,
            "flex": null,
            "_model_name": "LayoutModel",
            "justify_items": null,
            "grid_row": null,
            "max_height": null,
            "align_content": null,
            "visibility": null,
            "align_self": null,
            "height": null,
            "min_height": null,
            "padding": null,
            "grid_auto_rows": null,
            "grid_gap": null,
            "max_width": null,
            "order": null,
            "_view_module_version": "1.2.0",
            "grid_template_areas": null,
            "object_position": null,
            "object_fit": null,
            "grid_auto_columns": null,
            "margin": null,
            "display": null,
            "left": null
          }
        },
        "4b82178fc43c41fc9a6a7fcf7fc4dea6": {
          "model_module": "@jupyter-widgets/controls",
          "model_name": "HBoxModel",
          "model_module_version": "1.5.0",
          "state": {
            "_view_name": "HBoxView",
            "_dom_classes": [],
            "_model_name": "HBoxModel",
            "_view_module": "@jupyter-widgets/controls",
            "_model_module_version": "1.5.0",
            "_view_count": null,
            "_view_module_version": "1.5.0",
            "box_style": "",
            "layout": "IPY_MODEL_485f1c12b40844ce81312247e4b42f5e",
            "_model_module": "@jupyter-widgets/controls",
            "children": [
              "IPY_MODEL_17400176ea894fa79d5dd5ff3582c971",
              "IPY_MODEL_4c2218f3e6644121a57ffc8cd051a656",
              "IPY_MODEL_4a49d5388f5442b788de935040beb4bf"
            ]
          }
        },
        "485f1c12b40844ce81312247e4b42f5e": {
          "model_module": "@jupyter-widgets/base",
          "model_name": "LayoutModel",
          "model_module_version": "1.2.0",
          "state": {
            "_view_name": "LayoutView",
            "grid_template_rows": null,
            "right": null,
            "justify_content": null,
            "_view_module": "@jupyter-widgets/base",
            "overflow": null,
            "_model_module_version": "1.2.0",
            "_view_count": null,
            "flex_flow": null,
            "width": null,
            "min_width": null,
            "border": null,
            "align_items": null,
            "bottom": null,
            "_model_module": "@jupyter-widgets/base",
            "top": null,
            "grid_column": null,
            "overflow_y": null,
            "overflow_x": null,
            "grid_auto_flow": null,
            "grid_area": null,
            "grid_template_columns": null,
            "flex": null,
            "_model_name": "LayoutModel",
            "justify_items": null,
            "grid_row": null,
            "max_height": null,
            "align_content": null,
            "visibility": null,
            "align_self": null,
            "height": null,
            "min_height": null,
            "padding": null,
            "grid_auto_rows": null,
            "grid_gap": null,
            "max_width": null,
            "order": null,
            "_view_module_version": "1.2.0",
            "grid_template_areas": null,
            "object_position": null,
            "object_fit": null,
            "grid_auto_columns": null,
            "margin": null,
            "display": null,
            "left": null
          }
        },
        "17400176ea894fa79d5dd5ff3582c971": {
          "model_module": "@jupyter-widgets/controls",
          "model_name": "HTMLModel",
          "model_module_version": "1.5.0",
          "state": {
            "_view_name": "HTMLView",
            "style": "IPY_MODEL_88bacf99d867427aa3e204654adc946a",
            "_dom_classes": [],
            "description": "",
            "_model_name": "HTMLModel",
            "placeholder": "​",
            "_view_module": "@jupyter-widgets/controls",
            "_model_module_version": "1.5.0",
            "value": "100%",
            "_view_count": null,
            "_view_module_version": "1.5.0",
            "description_tooltip": null,
            "_model_module": "@jupyter-widgets/controls",
            "layout": "IPY_MODEL_542dc8c02475441e800e3794af867671"
          }
        },
        "4c2218f3e6644121a57ffc8cd051a656": {
          "model_module": "@jupyter-widgets/controls",
          "model_name": "FloatProgressModel",
          "model_module_version": "1.5.0",
          "state": {
            "_view_name": "ProgressView",
            "style": "IPY_MODEL_7eed78e2966443fd9558d3ec181f04dc",
            "_dom_classes": [],
            "description": "",
            "_model_name": "FloatProgressModel",
            "bar_style": "success",
            "max": 2,
            "_view_module": "@jupyter-widgets/controls",
            "_model_module_version": "1.5.0",
            "value": 2,
            "_view_count": null,
            "_view_module_version": "1.5.0",
            "orientation": "horizontal",
            "min": 0,
            "description_tooltip": null,
            "_model_module": "@jupyter-widgets/controls",
            "layout": "IPY_MODEL_22e00740a497490190087e7aff888490"
          }
        },
        "4a49d5388f5442b788de935040beb4bf": {
          "model_module": "@jupyter-widgets/controls",
          "model_name": "HTMLModel",
          "model_module_version": "1.5.0",
          "state": {
            "_view_name": "HTMLView",
            "style": "IPY_MODEL_c98ff7d03123421886301e0c466ebf75",
            "_dom_classes": [],
            "description": "",
            "_model_name": "HTMLModel",
            "placeholder": "​",
            "_view_module": "@jupyter-widgets/controls",
            "_model_module_version": "1.5.0",
            "value": " 2/2 [00:00&lt;00:00,  2.99ba/s]",
            "_view_count": null,
            "_view_module_version": "1.5.0",
            "description_tooltip": null,
            "_model_module": "@jupyter-widgets/controls",
            "layout": "IPY_MODEL_abdc1828eb0e413ea519d2bd1ade6f96"
          }
        },
        "88bacf99d867427aa3e204654adc946a": {
          "model_module": "@jupyter-widgets/controls",
          "model_name": "DescriptionStyleModel",
          "model_module_version": "1.5.0",
          "state": {
            "_view_name": "StyleView",
            "_model_name": "DescriptionStyleModel",
            "description_width": "",
            "_view_module": "@jupyter-widgets/base",
            "_model_module_version": "1.5.0",
            "_view_count": null,
            "_view_module_version": "1.2.0",
            "_model_module": "@jupyter-widgets/controls"
          }
        },
        "542dc8c02475441e800e3794af867671": {
          "model_module": "@jupyter-widgets/base",
          "model_name": "LayoutModel",
          "model_module_version": "1.2.0",
          "state": {
            "_view_name": "LayoutView",
            "grid_template_rows": null,
            "right": null,
            "justify_content": null,
            "_view_module": "@jupyter-widgets/base",
            "overflow": null,
            "_model_module_version": "1.2.0",
            "_view_count": null,
            "flex_flow": null,
            "width": null,
            "min_width": null,
            "border": null,
            "align_items": null,
            "bottom": null,
            "_model_module": "@jupyter-widgets/base",
            "top": null,
            "grid_column": null,
            "overflow_y": null,
            "overflow_x": null,
            "grid_auto_flow": null,
            "grid_area": null,
            "grid_template_columns": null,
            "flex": null,
            "_model_name": "LayoutModel",
            "justify_items": null,
            "grid_row": null,
            "max_height": null,
            "align_content": null,
            "visibility": null,
            "align_self": null,
            "height": null,
            "min_height": null,
            "padding": null,
            "grid_auto_rows": null,
            "grid_gap": null,
            "max_width": null,
            "order": null,
            "_view_module_version": "1.2.0",
            "grid_template_areas": null,
            "object_position": null,
            "object_fit": null,
            "grid_auto_columns": null,
            "margin": null,
            "display": null,
            "left": null
          }
        },
        "7eed78e2966443fd9558d3ec181f04dc": {
          "model_module": "@jupyter-widgets/controls",
          "model_name": "ProgressStyleModel",
          "model_module_version": "1.5.0",
          "state": {
            "_view_name": "StyleView",
            "_model_name": "ProgressStyleModel",
            "description_width": "",
            "_view_module": "@jupyter-widgets/base",
            "_model_module_version": "1.5.0",
            "_view_count": null,
            "_view_module_version": "1.2.0",
            "bar_color": null,
            "_model_module": "@jupyter-widgets/controls"
          }
        },
        "22e00740a497490190087e7aff888490": {
          "model_module": "@jupyter-widgets/base",
          "model_name": "LayoutModel",
          "model_module_version": "1.2.0",
          "state": {
            "_view_name": "LayoutView",
            "grid_template_rows": null,
            "right": null,
            "justify_content": null,
            "_view_module": "@jupyter-widgets/base",
            "overflow": null,
            "_model_module_version": "1.2.0",
            "_view_count": null,
            "flex_flow": null,
            "width": null,
            "min_width": null,
            "border": null,
            "align_items": null,
            "bottom": null,
            "_model_module": "@jupyter-widgets/base",
            "top": null,
            "grid_column": null,
            "overflow_y": null,
            "overflow_x": null,
            "grid_auto_flow": null,
            "grid_area": null,
            "grid_template_columns": null,
            "flex": null,
            "_model_name": "LayoutModel",
            "justify_items": null,
            "grid_row": null,
            "max_height": null,
            "align_content": null,
            "visibility": null,
            "align_self": null,
            "height": null,
            "min_height": null,
            "padding": null,
            "grid_auto_rows": null,
            "grid_gap": null,
            "max_width": null,
            "order": null,
            "_view_module_version": "1.2.0",
            "grid_template_areas": null,
            "object_position": null,
            "object_fit": null,
            "grid_auto_columns": null,
            "margin": null,
            "display": null,
            "left": null
          }
        },
        "c98ff7d03123421886301e0c466ebf75": {
          "model_module": "@jupyter-widgets/controls",
          "model_name": "DescriptionStyleModel",
          "model_module_version": "1.5.0",
          "state": {
            "_view_name": "StyleView",
            "_model_name": "DescriptionStyleModel",
            "description_width": "",
            "_view_module": "@jupyter-widgets/base",
            "_model_module_version": "1.5.0",
            "_view_count": null,
            "_view_module_version": "1.2.0",
            "_model_module": "@jupyter-widgets/controls"
          }
        },
        "abdc1828eb0e413ea519d2bd1ade6f96": {
          "model_module": "@jupyter-widgets/base",
          "model_name": "LayoutModel",
          "model_module_version": "1.2.0",
          "state": {
            "_view_name": "LayoutView",
            "grid_template_rows": null,
            "right": null,
            "justify_content": null,
            "_view_module": "@jupyter-widgets/base",
            "overflow": null,
            "_model_module_version": "1.2.0",
            "_view_count": null,
            "flex_flow": null,
            "width": null,
            "min_width": null,
            "border": null,
            "align_items": null,
            "bottom": null,
            "_model_module": "@jupyter-widgets/base",
            "top": null,
            "grid_column": null,
            "overflow_y": null,
            "overflow_x": null,
            "grid_auto_flow": null,
            "grid_area": null,
            "grid_template_columns": null,
            "flex": null,
            "_model_name": "LayoutModel",
            "justify_items": null,
            "grid_row": null,
            "max_height": null,
            "align_content": null,
            "visibility": null,
            "align_self": null,
            "height": null,
            "min_height": null,
            "padding": null,
            "grid_auto_rows": null,
            "grid_gap": null,
            "max_width": null,
            "order": null,
            "_view_module_version": "1.2.0",
            "grid_template_areas": null,
            "object_position": null,
            "object_fit": null,
            "grid_auto_columns": null,
            "margin": null,
            "display": null,
            "left": null
          }
        },
        "a980932af31040ac9be4e52ecda4dcf4": {
          "model_module": "@jupyter-widgets/controls",
          "model_name": "HBoxModel",
          "model_module_version": "1.5.0",
          "state": {
            "_view_name": "HBoxView",
            "_dom_classes": [],
            "_model_name": "HBoxModel",
            "_view_module": "@jupyter-widgets/controls",
            "_model_module_version": "1.5.0",
            "_view_count": null,
            "_view_module_version": "1.5.0",
            "box_style": "",
            "layout": "IPY_MODEL_c2c836c27de84305b10cc61493fc1f58",
            "_model_module": "@jupyter-widgets/controls",
            "children": [
              "IPY_MODEL_d33231bfae0041a98b332224c5b6976f",
              "IPY_MODEL_db3465e9bbe74e0fb9d73e08d3c9d112",
              "IPY_MODEL_770e5fae9a5840a0a1943b21cf482cd9"
            ]
          }
        },
        "c2c836c27de84305b10cc61493fc1f58": {
          "model_module": "@jupyter-widgets/base",
          "model_name": "LayoutModel",
          "model_module_version": "1.2.0",
          "state": {
            "_view_name": "LayoutView",
            "grid_template_rows": null,
            "right": null,
            "justify_content": null,
            "_view_module": "@jupyter-widgets/base",
            "overflow": null,
            "_model_module_version": "1.2.0",
            "_view_count": null,
            "flex_flow": null,
            "width": null,
            "min_width": null,
            "border": null,
            "align_items": null,
            "bottom": null,
            "_model_module": "@jupyter-widgets/base",
            "top": null,
            "grid_column": null,
            "overflow_y": null,
            "overflow_x": null,
            "grid_auto_flow": null,
            "grid_area": null,
            "grid_template_columns": null,
            "flex": null,
            "_model_name": "LayoutModel",
            "justify_items": null,
            "grid_row": null,
            "max_height": null,
            "align_content": null,
            "visibility": null,
            "align_self": null,
            "height": null,
            "min_height": null,
            "padding": null,
            "grid_auto_rows": null,
            "grid_gap": null,
            "max_width": null,
            "order": null,
            "_view_module_version": "1.2.0",
            "grid_template_areas": null,
            "object_position": null,
            "object_fit": null,
            "grid_auto_columns": null,
            "margin": null,
            "display": null,
            "left": null
          }
        },
        "d33231bfae0041a98b332224c5b6976f": {
          "model_module": "@jupyter-widgets/controls",
          "model_name": "HTMLModel",
          "model_module_version": "1.5.0",
          "state": {
            "_view_name": "HTMLView",
            "style": "IPY_MODEL_5304a4770ba34f7b8cbe0c3bd5ef9caf",
            "_dom_classes": [],
            "description": "",
            "_model_name": "HTMLModel",
            "placeholder": "​",
            "_view_module": "@jupyter-widgets/controls",
            "_model_module_version": "1.5.0",
            "value": "100%",
            "_view_count": null,
            "_view_module_version": "1.5.0",
            "description_tooltip": null,
            "_model_module": "@jupyter-widgets/controls",
            "layout": "IPY_MODEL_ad0b97159b0c4dfe87e4a78416312c2f"
          }
        },
        "db3465e9bbe74e0fb9d73e08d3c9d112": {
          "model_module": "@jupyter-widgets/controls",
          "model_name": "FloatProgressModel",
          "model_module_version": "1.5.0",
          "state": {
            "_view_name": "ProgressView",
            "style": "IPY_MODEL_a0d3b6d2af1245e9b23caab6148ad405",
            "_dom_classes": [],
            "description": "",
            "_model_name": "FloatProgressModel",
            "bar_style": "success",
            "max": 2,
            "_view_module": "@jupyter-widgets/controls",
            "_model_module_version": "1.5.0",
            "value": 2,
            "_view_count": null,
            "_view_module_version": "1.5.0",
            "orientation": "horizontal",
            "min": 0,
            "description_tooltip": null,
            "_model_module": "@jupyter-widgets/controls",
            "layout": "IPY_MODEL_3cc49ef082e94eb8a4e2adc8cce4de59"
          }
        },
        "770e5fae9a5840a0a1943b21cf482cd9": {
          "model_module": "@jupyter-widgets/controls",
          "model_name": "HTMLModel",
          "model_module_version": "1.5.0",
          "state": {
            "_view_name": "HTMLView",
            "style": "IPY_MODEL_77411e2bbb2e47a49821c65705698b8d",
            "_dom_classes": [],
            "description": "",
            "_model_name": "HTMLModel",
            "placeholder": "​",
            "_view_module": "@jupyter-widgets/controls",
            "_model_module_version": "1.5.0",
            "value": " 2/2 [00:00&lt;00:00,  3.17ba/s]",
            "_view_count": null,
            "_view_module_version": "1.5.0",
            "description_tooltip": null,
            "_model_module": "@jupyter-widgets/controls",
            "layout": "IPY_MODEL_dc6064b5a09c496b914a4e33074412fb"
          }
        },
        "5304a4770ba34f7b8cbe0c3bd5ef9caf": {
          "model_module": "@jupyter-widgets/controls",
          "model_name": "DescriptionStyleModel",
          "model_module_version": "1.5.0",
          "state": {
            "_view_name": "StyleView",
            "_model_name": "DescriptionStyleModel",
            "description_width": "",
            "_view_module": "@jupyter-widgets/base",
            "_model_module_version": "1.5.0",
            "_view_count": null,
            "_view_module_version": "1.2.0",
            "_model_module": "@jupyter-widgets/controls"
          }
        },
        "ad0b97159b0c4dfe87e4a78416312c2f": {
          "model_module": "@jupyter-widgets/base",
          "model_name": "LayoutModel",
          "model_module_version": "1.2.0",
          "state": {
            "_view_name": "LayoutView",
            "grid_template_rows": null,
            "right": null,
            "justify_content": null,
            "_view_module": "@jupyter-widgets/base",
            "overflow": null,
            "_model_module_version": "1.2.0",
            "_view_count": null,
            "flex_flow": null,
            "width": null,
            "min_width": null,
            "border": null,
            "align_items": null,
            "bottom": null,
            "_model_module": "@jupyter-widgets/base",
            "top": null,
            "grid_column": null,
            "overflow_y": null,
            "overflow_x": null,
            "grid_auto_flow": null,
            "grid_area": null,
            "grid_template_columns": null,
            "flex": null,
            "_model_name": "LayoutModel",
            "justify_items": null,
            "grid_row": null,
            "max_height": null,
            "align_content": null,
            "visibility": null,
            "align_self": null,
            "height": null,
            "min_height": null,
            "padding": null,
            "grid_auto_rows": null,
            "grid_gap": null,
            "max_width": null,
            "order": null,
            "_view_module_version": "1.2.0",
            "grid_template_areas": null,
            "object_position": null,
            "object_fit": null,
            "grid_auto_columns": null,
            "margin": null,
            "display": null,
            "left": null
          }
        },
        "a0d3b6d2af1245e9b23caab6148ad405": {
          "model_module": "@jupyter-widgets/controls",
          "model_name": "ProgressStyleModel",
          "model_module_version": "1.5.0",
          "state": {
            "_view_name": "StyleView",
            "_model_name": "ProgressStyleModel",
            "description_width": "",
            "_view_module": "@jupyter-widgets/base",
            "_model_module_version": "1.5.0",
            "_view_count": null,
            "_view_module_version": "1.2.0",
            "bar_color": null,
            "_model_module": "@jupyter-widgets/controls"
          }
        },
        "3cc49ef082e94eb8a4e2adc8cce4de59": {
          "model_module": "@jupyter-widgets/base",
          "model_name": "LayoutModel",
          "model_module_version": "1.2.0",
          "state": {
            "_view_name": "LayoutView",
            "grid_template_rows": null,
            "right": null,
            "justify_content": null,
            "_view_module": "@jupyter-widgets/base",
            "overflow": null,
            "_model_module_version": "1.2.0",
            "_view_count": null,
            "flex_flow": null,
            "width": null,
            "min_width": null,
            "border": null,
            "align_items": null,
            "bottom": null,
            "_model_module": "@jupyter-widgets/base",
            "top": null,
            "grid_column": null,
            "overflow_y": null,
            "overflow_x": null,
            "grid_auto_flow": null,
            "grid_area": null,
            "grid_template_columns": null,
            "flex": null,
            "_model_name": "LayoutModel",
            "justify_items": null,
            "grid_row": null,
            "max_height": null,
            "align_content": null,
            "visibility": null,
            "align_self": null,
            "height": null,
            "min_height": null,
            "padding": null,
            "grid_auto_rows": null,
            "grid_gap": null,
            "max_width": null,
            "order": null,
            "_view_module_version": "1.2.0",
            "grid_template_areas": null,
            "object_position": null,
            "object_fit": null,
            "grid_auto_columns": null,
            "margin": null,
            "display": null,
            "left": null
          }
        },
        "77411e2bbb2e47a49821c65705698b8d": {
          "model_module": "@jupyter-widgets/controls",
          "model_name": "DescriptionStyleModel",
          "model_module_version": "1.5.0",
          "state": {
            "_view_name": "StyleView",
            "_model_name": "DescriptionStyleModel",
            "description_width": "",
            "_view_module": "@jupyter-widgets/base",
            "_model_module_version": "1.5.0",
            "_view_count": null,
            "_view_module_version": "1.2.0",
            "_model_module": "@jupyter-widgets/controls"
          }
        },
        "dc6064b5a09c496b914a4e33074412fb": {
          "model_module": "@jupyter-widgets/base",
          "model_name": "LayoutModel",
          "model_module_version": "1.2.0",
          "state": {
            "_view_name": "LayoutView",
            "grid_template_rows": null,
            "right": null,
            "justify_content": null,
            "_view_module": "@jupyter-widgets/base",
            "overflow": null,
            "_model_module_version": "1.2.0",
            "_view_count": null,
            "flex_flow": null,
            "width": null,
            "min_width": null,
            "border": null,
            "align_items": null,
            "bottom": null,
            "_model_module": "@jupyter-widgets/base",
            "top": null,
            "grid_column": null,
            "overflow_y": null,
            "overflow_x": null,
            "grid_auto_flow": null,
            "grid_area": null,
            "grid_template_columns": null,
            "flex": null,
            "_model_name": "LayoutModel",
            "justify_items": null,
            "grid_row": null,
            "max_height": null,
            "align_content": null,
            "visibility": null,
            "align_self": null,
            "height": null,
            "min_height": null,
            "padding": null,
            "grid_auto_rows": null,
            "grid_gap": null,
            "max_width": null,
            "order": null,
            "_view_module_version": "1.2.0",
            "grid_template_areas": null,
            "object_position": null,
            "object_fit": null,
            "grid_auto_columns": null,
            "margin": null,
            "display": null,
            "left": null
          }
        },
        "6706cd2389474a28a589a7306ca47ad7": {
          "model_module": "@jupyter-widgets/controls",
          "model_name": "HBoxModel",
          "model_module_version": "1.5.0",
          "state": {
            "_view_name": "HBoxView",
            "_dom_classes": [],
            "_model_name": "HBoxModel",
            "_view_module": "@jupyter-widgets/controls",
            "_model_module_version": "1.5.0",
            "_view_count": null,
            "_view_module_version": "1.5.0",
            "box_style": "",
            "layout": "IPY_MODEL_278d4cb3a62d400dba0e9647146a951d",
            "_model_module": "@jupyter-widgets/controls",
            "children": [
              "IPY_MODEL_8dd529b3f0eb47a68fe854a2351a1072",
              "IPY_MODEL_522dede441524e54a6070e14dbe4a5af",
              "IPY_MODEL_71b9c59e0bdb4d55a205dfd2d137c365"
            ]
          }
        },
        "278d4cb3a62d400dba0e9647146a951d": {
          "model_module": "@jupyter-widgets/base",
          "model_name": "LayoutModel",
          "model_module_version": "1.2.0",
          "state": {
            "_view_name": "LayoutView",
            "grid_template_rows": null,
            "right": null,
            "justify_content": null,
            "_view_module": "@jupyter-widgets/base",
            "overflow": null,
            "_model_module_version": "1.2.0",
            "_view_count": null,
            "flex_flow": null,
            "width": null,
            "min_width": null,
            "border": null,
            "align_items": null,
            "bottom": null,
            "_model_module": "@jupyter-widgets/base",
            "top": null,
            "grid_column": null,
            "overflow_y": null,
            "overflow_x": null,
            "grid_auto_flow": null,
            "grid_area": null,
            "grid_template_columns": null,
            "flex": null,
            "_model_name": "LayoutModel",
            "justify_items": null,
            "grid_row": null,
            "max_height": null,
            "align_content": null,
            "visibility": null,
            "align_self": null,
            "height": null,
            "min_height": null,
            "padding": null,
            "grid_auto_rows": null,
            "grid_gap": null,
            "max_width": null,
            "order": null,
            "_view_module_version": "1.2.0",
            "grid_template_areas": null,
            "object_position": null,
            "object_fit": null,
            "grid_auto_columns": null,
            "margin": null,
            "display": null,
            "left": null
          }
        },
        "8dd529b3f0eb47a68fe854a2351a1072": {
          "model_module": "@jupyter-widgets/controls",
          "model_name": "HTMLModel",
          "model_module_version": "1.5.0",
          "state": {
            "_view_name": "HTMLView",
            "style": "IPY_MODEL_16795eb0650c4ea3b72b8671e0a93ed0",
            "_dom_classes": [],
            "description": "",
            "_model_name": "HTMLModel",
            "placeholder": "​",
            "_view_module": "@jupyter-widgets/controls",
            "_model_module_version": "1.5.0",
            "value": "Downloading: 100%",
            "_view_count": null,
            "_view_module_version": "1.5.0",
            "description_tooltip": null,
            "_model_module": "@jupyter-widgets/controls",
            "layout": "IPY_MODEL_64d4f123d4384be89816df72bf45152f"
          }
        },
        "522dede441524e54a6070e14dbe4a5af": {
          "model_module": "@jupyter-widgets/controls",
          "model_name": "FloatProgressModel",
          "model_module_version": "1.5.0",
          "state": {
            "_view_name": "ProgressView",
            "style": "IPY_MODEL_e933dc9e68e8456c9d3884d0d9364bad",
            "_dom_classes": [],
            "description": "",
            "_model_name": "FloatProgressModel",
            "bar_style": "success",
            "max": 300887193,
            "_view_module": "@jupyter-widgets/controls",
            "_model_module_version": "1.5.0",
            "value": 300887193,
            "_view_count": null,
            "_view_module_version": "1.5.0",
            "orientation": "horizontal",
            "min": 0,
            "description_tooltip": null,
            "_model_module": "@jupyter-widgets/controls",
            "layout": "IPY_MODEL_8bced4f59d8c4861b61f3d365ea39c4e"
          }
        },
        "71b9c59e0bdb4d55a205dfd2d137c365": {
          "model_module": "@jupyter-widgets/controls",
          "model_name": "HTMLModel",
          "model_module_version": "1.5.0",
          "state": {
            "_view_name": "HTMLView",
            "style": "IPY_MODEL_809bc3ab67cb46d5bfc7666468e93af1",
            "_dom_classes": [],
            "description": "",
            "_model_name": "HTMLModel",
            "placeholder": "​",
            "_view_module": "@jupyter-widgets/controls",
            "_model_module_version": "1.5.0",
            "value": " 287M/287M [00:05&lt;00:00, 53.4MB/s]",
            "_view_count": null,
            "_view_module_version": "1.5.0",
            "description_tooltip": null,
            "_model_module": "@jupyter-widgets/controls",
            "layout": "IPY_MODEL_28e4d8be22354a08b58a570fe10f9098"
          }
        },
        "16795eb0650c4ea3b72b8671e0a93ed0": {
          "model_module": "@jupyter-widgets/controls",
          "model_name": "DescriptionStyleModel",
          "model_module_version": "1.5.0",
          "state": {
            "_view_name": "StyleView",
            "_model_name": "DescriptionStyleModel",
            "description_width": "",
            "_view_module": "@jupyter-widgets/base",
            "_model_module_version": "1.5.0",
            "_view_count": null,
            "_view_module_version": "1.2.0",
            "_model_module": "@jupyter-widgets/controls"
          }
        },
        "64d4f123d4384be89816df72bf45152f": {
          "model_module": "@jupyter-widgets/base",
          "model_name": "LayoutModel",
          "model_module_version": "1.2.0",
          "state": {
            "_view_name": "LayoutView",
            "grid_template_rows": null,
            "right": null,
            "justify_content": null,
            "_view_module": "@jupyter-widgets/base",
            "overflow": null,
            "_model_module_version": "1.2.0",
            "_view_count": null,
            "flex_flow": null,
            "width": null,
            "min_width": null,
            "border": null,
            "align_items": null,
            "bottom": null,
            "_model_module": "@jupyter-widgets/base",
            "top": null,
            "grid_column": null,
            "overflow_y": null,
            "overflow_x": null,
            "grid_auto_flow": null,
            "grid_area": null,
            "grid_template_columns": null,
            "flex": null,
            "_model_name": "LayoutModel",
            "justify_items": null,
            "grid_row": null,
            "max_height": null,
            "align_content": null,
            "visibility": null,
            "align_self": null,
            "height": null,
            "min_height": null,
            "padding": null,
            "grid_auto_rows": null,
            "grid_gap": null,
            "max_width": null,
            "order": null,
            "_view_module_version": "1.2.0",
            "grid_template_areas": null,
            "object_position": null,
            "object_fit": null,
            "grid_auto_columns": null,
            "margin": null,
            "display": null,
            "left": null
          }
        },
        "e933dc9e68e8456c9d3884d0d9364bad": {
          "model_module": "@jupyter-widgets/controls",
          "model_name": "ProgressStyleModel",
          "model_module_version": "1.5.0",
          "state": {
            "_view_name": "StyleView",
            "_model_name": "ProgressStyleModel",
            "description_width": "",
            "_view_module": "@jupyter-widgets/base",
            "_model_module_version": "1.5.0",
            "_view_count": null,
            "_view_module_version": "1.2.0",
            "bar_color": null,
            "_model_module": "@jupyter-widgets/controls"
          }
        },
        "8bced4f59d8c4861b61f3d365ea39c4e": {
          "model_module": "@jupyter-widgets/base",
          "model_name": "LayoutModel",
          "model_module_version": "1.2.0",
          "state": {
            "_view_name": "LayoutView",
            "grid_template_rows": null,
            "right": null,
            "justify_content": null,
            "_view_module": "@jupyter-widgets/base",
            "overflow": null,
            "_model_module_version": "1.2.0",
            "_view_count": null,
            "flex_flow": null,
            "width": null,
            "min_width": null,
            "border": null,
            "align_items": null,
            "bottom": null,
            "_model_module": "@jupyter-widgets/base",
            "top": null,
            "grid_column": null,
            "overflow_y": null,
            "overflow_x": null,
            "grid_auto_flow": null,
            "grid_area": null,
            "grid_template_columns": null,
            "flex": null,
            "_model_name": "LayoutModel",
            "justify_items": null,
            "grid_row": null,
            "max_height": null,
            "align_content": null,
            "visibility": null,
            "align_self": null,
            "height": null,
            "min_height": null,
            "padding": null,
            "grid_auto_rows": null,
            "grid_gap": null,
            "max_width": null,
            "order": null,
            "_view_module_version": "1.2.0",
            "grid_template_areas": null,
            "object_position": null,
            "object_fit": null,
            "grid_auto_columns": null,
            "margin": null,
            "display": null,
            "left": null
          }
        },
        "809bc3ab67cb46d5bfc7666468e93af1": {
          "model_module": "@jupyter-widgets/controls",
          "model_name": "DescriptionStyleModel",
          "model_module_version": "1.5.0",
          "state": {
            "_view_name": "StyleView",
            "_model_name": "DescriptionStyleModel",
            "description_width": "",
            "_view_module": "@jupyter-widgets/base",
            "_model_module_version": "1.5.0",
            "_view_count": null,
            "_view_module_version": "1.2.0",
            "_model_module": "@jupyter-widgets/controls"
          }
        },
        "28e4d8be22354a08b58a570fe10f9098": {
          "model_module": "@jupyter-widgets/base",
          "model_name": "LayoutModel",
          "model_module_version": "1.2.0",
          "state": {
            "_view_name": "LayoutView",
            "grid_template_rows": null,
            "right": null,
            "justify_content": null,
            "_view_module": "@jupyter-widgets/base",
            "overflow": null,
            "_model_module_version": "1.2.0",
            "_view_count": null,
            "flex_flow": null,
            "width": null,
            "min_width": null,
            "border": null,
            "align_items": null,
            "bottom": null,
            "_model_module": "@jupyter-widgets/base",
            "top": null,
            "grid_column": null,
            "overflow_y": null,
            "overflow_x": null,
            "grid_auto_flow": null,
            "grid_area": null,
            "grid_template_columns": null,
            "flex": null,
            "_model_name": "LayoutModel",
            "justify_items": null,
            "grid_row": null,
            "max_height": null,
            "align_content": null,
            "visibility": null,
            "align_self": null,
            "height": null,
            "min_height": null,
            "padding": null,
            "grid_auto_rows": null,
            "grid_gap": null,
            "max_width": null,
            "order": null,
            "_view_module_version": "1.2.0",
            "grid_template_areas": null,
            "object_position": null,
            "object_fit": null,
            "grid_auto_columns": null,
            "margin": null,
            "display": null,
            "left": null
          }
        }
      }
    },
    "accelerator": "GPU"
  },
  "cells": [
    {
      "cell_type": "markdown",
      "source": [
        "#AI DAY - Transformers Workshop\n",
        "##Fine tune a translation model\n",
        "\n",
        "**NOTE**: There are a few pieces of code missing in this notebook, you need to go through it and fill it in, we will eventually go through it all together in the live workshop session."
      ],
      "metadata": {
        "id": "c5iszgAtycnS"
      }
    },
    {
      "cell_type": "markdown",
      "source": [
        "if you're opening this Notebook on colab, you will probably need to install 🤗 Transformers and 🤗 Datasets. Uncomment the following cell and run it"
      ],
      "metadata": {
        "id": "RTy21UuUX2iI"
      }
    },
    {
      "cell_type": "code",
      "source": [
        "#!pip install datasets transformers[sentencepiece] sacrebleu"
      ],
      "metadata": {
        "colab": {
          "base_uri": "https://localhost:8080/"
        },
        "id": "H_YpMXeZXyxN",
        "outputId": "8cbafb9a-2778-4b1e-b8eb-8dbb46bb250d"
      },
      "execution_count": 1,
      "outputs": [
        {
          "output_type": "stream",
          "name": "stdout",
          "text": [
            "Collecting datasets\n",
            "  Downloading datasets-1.18.0-py3-none-any.whl (311 kB)\n",
            "\u001b[K     |████████████████████████████████| 311 kB 9.9 MB/s \n",
            "\u001b[?25hCollecting transformers\n",
            "  Downloading transformers-4.15.0-py3-none-any.whl (3.4 MB)\n",
            "\u001b[K     |████████████████████████████████| 3.4 MB 65.7 MB/s \n",
            "\u001b[?25hCollecting sacrebleu\n",
            "  Downloading sacrebleu-2.0.0-py3-none-any.whl (90 kB)\n",
            "\u001b[K     |████████████████████████████████| 90 kB 14.6 MB/s \n",
            "\u001b[?25hCollecting fsspec[http]>=2021.05.0\n",
            "  Downloading fsspec-2022.1.0-py3-none-any.whl (133 kB)\n",
            "\u001b[K     |████████████████████████████████| 133 kB 84.3 MB/s \n",
            "\u001b[?25hCollecting xxhash\n",
            "  Downloading xxhash-2.0.2-cp37-cp37m-manylinux2010_x86_64.whl (243 kB)\n",
            "\u001b[K     |████████████████████████████████| 243 kB 74.9 MB/s \n",
            "\u001b[?25hRequirement already satisfied: pyarrow!=4.0.0,>=3.0.0 in /usr/local/lib/python3.7/dist-packages (from datasets) (3.0.0)\n",
            "Requirement already satisfied: multiprocess in /usr/local/lib/python3.7/dist-packages (from datasets) (0.70.12.2)\n",
            "Requirement already satisfied: dill in /usr/local/lib/python3.7/dist-packages (from datasets) (0.3.4)\n",
            "Requirement already satisfied: importlib-metadata in /usr/local/lib/python3.7/dist-packages (from datasets) (4.10.0)\n",
            "Requirement already satisfied: pandas in /usr/local/lib/python3.7/dist-packages (from datasets) (1.1.5)\n",
            "Requirement already satisfied: numpy>=1.17 in /usr/local/lib/python3.7/dist-packages (from datasets) (1.19.5)\n",
            "Requirement already satisfied: requests>=2.19.0 in /usr/local/lib/python3.7/dist-packages (from datasets) (2.23.0)\n",
            "Collecting aiohttp\n",
            "  Downloading aiohttp-3.8.1-cp37-cp37m-manylinux_2_5_x86_64.manylinux1_x86_64.manylinux_2_12_x86_64.manylinux2010_x86_64.whl (1.1 MB)\n",
            "\u001b[K     |████████████████████████████████| 1.1 MB 67.9 MB/s \n",
            "\u001b[?25hRequirement already satisfied: tqdm>=4.62.1 in /usr/local/lib/python3.7/dist-packages (from datasets) (4.62.3)\n",
            "Collecting huggingface-hub<1.0.0,>=0.1.0\n",
            "  Downloading huggingface_hub-0.4.0-py3-none-any.whl (67 kB)\n",
            "\u001b[K     |████████████████████████████████| 67 kB 8.2 MB/s \n",
            "\u001b[?25hRequirement already satisfied: packaging in /usr/local/lib/python3.7/dist-packages (from datasets) (21.3)\n",
            "Requirement already satisfied: typing-extensions>=3.7.4.3 in /usr/local/lib/python3.7/dist-packages (from huggingface-hub<1.0.0,>=0.1.0->datasets) (3.10.0.2)\n",
            "Requirement already satisfied: filelock in /usr/local/lib/python3.7/dist-packages (from huggingface-hub<1.0.0,>=0.1.0->datasets) (3.4.2)\n",
            "Requirement already satisfied: pyyaml in /usr/local/lib/python3.7/dist-packages (from huggingface-hub<1.0.0,>=0.1.0->datasets) (3.13)\n",
            "Requirement already satisfied: pyparsing!=3.0.5,>=2.0.2 in /usr/local/lib/python3.7/dist-packages (from packaging->datasets) (3.0.6)\n",
            "Requirement already satisfied: urllib3!=1.25.0,!=1.25.1,<1.26,>=1.21.1 in /usr/local/lib/python3.7/dist-packages (from requests>=2.19.0->datasets) (1.24.3)\n",
            "Requirement already satisfied: idna<3,>=2.5 in /usr/local/lib/python3.7/dist-packages (from requests>=2.19.0->datasets) (2.10)\n",
            "Requirement already satisfied: chardet<4,>=3.0.2 in /usr/local/lib/python3.7/dist-packages (from requests>=2.19.0->datasets) (3.0.4)\n",
            "Requirement already satisfied: certifi>=2017.4.17 in /usr/local/lib/python3.7/dist-packages (from requests>=2.19.0->datasets) (2021.10.8)\n",
            "Requirement already satisfied: regex!=2019.12.17 in /usr/local/lib/python3.7/dist-packages (from transformers) (2019.12.20)\n",
            "Collecting pyyaml\n",
            "  Downloading PyYAML-6.0-cp37-cp37m-manylinux_2_5_x86_64.manylinux1_x86_64.manylinux_2_12_x86_64.manylinux2010_x86_64.whl (596 kB)\n",
            "\u001b[K     |████████████████████████████████| 596 kB 70.2 MB/s \n",
            "\u001b[?25hCollecting tokenizers<0.11,>=0.10.1\n",
            "  Downloading tokenizers-0.10.3-cp37-cp37m-manylinux_2_5_x86_64.manylinux1_x86_64.manylinux_2_12_x86_64.manylinux2010_x86_64.whl (3.3 MB)\n",
            "\u001b[K     |████████████████████████████████| 3.3 MB 53.1 MB/s \n",
            "\u001b[?25hCollecting sacremoses\n",
            "  Downloading sacremoses-0.0.47-py2.py3-none-any.whl (895 kB)\n",
            "\u001b[K     |████████████████████████████████| 895 kB 78.2 MB/s \n",
            "\u001b[?25hCollecting portalocker\n",
            "  Downloading portalocker-2.3.2-py2.py3-none-any.whl (15 kB)\n",
            "Collecting colorama\n",
            "  Downloading colorama-0.4.4-py2.py3-none-any.whl (16 kB)\n",
            "Requirement already satisfied: tabulate>=0.8.9 in /usr/local/lib/python3.7/dist-packages (from sacrebleu) (0.8.9)\n",
            "Collecting yarl<2.0,>=1.0\n",
            "  Downloading yarl-1.7.2-cp37-cp37m-manylinux_2_5_x86_64.manylinux1_x86_64.manylinux_2_12_x86_64.manylinux2010_x86_64.whl (271 kB)\n",
            "\u001b[K     |████████████████████████████████| 271 kB 75.2 MB/s \n",
            "\u001b[?25hRequirement already satisfied: charset-normalizer<3.0,>=2.0 in /usr/local/lib/python3.7/dist-packages (from aiohttp->datasets) (2.0.10)\n",
            "Collecting frozenlist>=1.1.1\n",
            "  Downloading frozenlist-1.3.0-cp37-cp37m-manylinux_2_5_x86_64.manylinux1_x86_64.manylinux_2_17_x86_64.manylinux2014_x86_64.whl (144 kB)\n",
            "\u001b[K     |████████████████████████████████| 144 kB 80.0 MB/s \n",
            "\u001b[?25hCollecting asynctest==0.13.0\n",
            "  Downloading asynctest-0.13.0-py3-none-any.whl (26 kB)\n",
            "Collecting aiosignal>=1.1.2\n",
            "  Downloading aiosignal-1.2.0-py3-none-any.whl (8.2 kB)\n",
            "Collecting multidict<7.0,>=4.5\n",
            "  Downloading multidict-5.2.0-cp37-cp37m-manylinux_2_5_x86_64.manylinux1_x86_64.manylinux_2_12_x86_64.manylinux2010_x86_64.whl (160 kB)\n",
            "\u001b[K     |████████████████████████████████| 160 kB 77.1 MB/s \n",
            "\u001b[?25hRequirement already satisfied: attrs>=17.3.0 in /usr/local/lib/python3.7/dist-packages (from aiohttp->datasets) (21.4.0)\n",
            "Collecting async-timeout<5.0,>=4.0.0a3\n",
            "  Downloading async_timeout-4.0.2-py3-none-any.whl (5.8 kB)\n",
            "Requirement already satisfied: zipp>=0.5 in /usr/local/lib/python3.7/dist-packages (from importlib-metadata->datasets) (3.7.0)\n",
            "Requirement already satisfied: python-dateutil>=2.7.3 in /usr/local/lib/python3.7/dist-packages (from pandas->datasets) (2.8.2)\n",
            "Requirement already satisfied: pytz>=2017.2 in /usr/local/lib/python3.7/dist-packages (from pandas->datasets) (2018.9)\n",
            "Requirement already satisfied: six>=1.5 in /usr/local/lib/python3.7/dist-packages (from python-dateutil>=2.7.3->pandas->datasets) (1.15.0)\n",
            "Requirement already satisfied: joblib in /usr/local/lib/python3.7/dist-packages (from sacremoses->transformers) (1.1.0)\n",
            "Requirement already satisfied: click in /usr/local/lib/python3.7/dist-packages (from sacremoses->transformers) (7.1.2)\n",
            "Installing collected packages: multidict, frozenlist, yarl, asynctest, async-timeout, aiosignal, pyyaml, fsspec, aiohttp, xxhash, tokenizers, sacremoses, portalocker, huggingface-hub, colorama, transformers, sacrebleu, datasets\n",
            "  Attempting uninstall: pyyaml\n",
            "    Found existing installation: PyYAML 3.13\n",
            "    Uninstalling PyYAML-3.13:\n",
            "      Successfully uninstalled PyYAML-3.13\n",
            "Successfully installed aiohttp-3.8.1 aiosignal-1.2.0 async-timeout-4.0.2 asynctest-0.13.0 colorama-0.4.4 datasets-1.18.0 frozenlist-1.3.0 fsspec-2022.1.0 huggingface-hub-0.4.0 multidict-5.2.0 portalocker-2.3.2 pyyaml-6.0 sacrebleu-2.0.0 sacremoses-0.0.47 tokenizers-0.10.3 transformers-4.15.0 xxhash-2.0.2 yarl-1.7.2\n"
          ]
        }
      ]
    },
    {
      "cell_type": "markdown",
      "source": [
        "\n",
        "\n",
        "If you're opening this notebook locally, make sure your environment has an install from the last version of those libraries.\n",
        "\n",
        "To be able to share your model with the community and generate results like the one shown in the picture below via the inference API, there are a few more steps to follow.\n",
        "\n",
        "First you have to store your authentication token from the Hugging Face website (sign up here if you haven't already!) then execute the following cell and input your username and password:\n"
      ],
      "metadata": {
        "id": "QxbG97EcYkpH"
      }
    },
    {
      "cell_type": "code",
      "execution_count": 32,
      "metadata": {
        "colab": {
          "base_uri": "https://localhost:8080/",
          "height": 387,
          "referenced_widgets": [
            "558c5cfa22c543d78b3a692a2fd17359",
            "ea84f178fbad469fb76bf689678d51d8",
            "6555df4d64354fa885fb8f868aebac30",
            "9d618a1b33384e01865a41b3e02d470f",
            "902812a9347f41beb215b1c7975abe63",
            "b68c84175ad140af955a999f529ebafa",
            "c8f75d04eeec45e3bf809aebb6d84f89",
            "e74f588e218442bd9e5be97ef197d68c",
            "05f67c1445894f19a6ad3385d1e704f9",
            "beb83fca336545b19cdc2bb8e7402ee4",
            "5c206b1938874ecab1f010c2b6dc483e",
            "1ca92fe77dc94e159fe8044a31b57462",
            "b5f017d81d6f46ccb5aeb712d6775909",
            "64a50b12d79b4a5d9db49f76a8be63b8",
            "b664c804b79d481792de9ba82b19659a",
            "9eaf8b5fd2f04ed7a50e218269b11408",
            "6c1d40cedad347f390782060ffa13c75"
          ]
        },
        "id": "30eiTwxcXXz8",
        "outputId": "9e55fbb0-bcce-492c-a126-e3b2480921fe"
      },
      "outputs": [
        {
          "output_type": "stream",
          "name": "stdout",
          "text": [
            "Login successful\n",
            "Your token has been saved to /root/.huggingface/token\n",
            "\u001b[1m\u001b[31mAuthenticated through git-credential store but this isn't the helper defined on your machine.\n",
            "You might have to re-authenticate when pushing to the Hugging Face Hub. Run the following command in your terminal in case you want to set this credential helper as the default\n",
            "\n",
            "git config --global credential.helper store\u001b[0m\n"
          ]
        }
      ],
      "source": [
        "from huggingface_hub import notebook_login\n",
        "\n",
        "notebook_login()"
      ]
    },
    {
      "cell_type": "markdown",
      "source": [
        "Then you need to install Git-LFS. Uncomment the following instructions:\n"
      ],
      "metadata": {
        "id": "vDkLglTxZwkg"
      }
    },
    {
      "cell_type": "code",
      "source": [
        "#!apt install git-lfs"
      ],
      "metadata": {
        "id": "z4jLNF31YqqF"
      },
      "execution_count": 36,
      "outputs": []
    },
    {
      "cell_type": "markdown",
      "source": [
        "\n",
        "##Fine-tuning a model on a translation task\n",
        "\n",
        "In this notebook, we will see how to fine-tune one of the 🤗 Transformers model for a translation task. We will use the [WMT](https://www.statmt.org/wmt16/) dataset, a machine translation dataset composed from a collection of various sources, including news commentaries and parliament proceedings.\n",
        "![translation.png](data:image/png;base64,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)"
      ],
      "metadata": {
        "id": "VG89cpmKaDs8"
      }
    },
    {
      "cell_type": "markdown",
      "source": [
        "We will see how to easily load the dataset for this task using 🤗 Datasets and how to fine-tune a model on it using the Trainer API."
      ],
      "metadata": {
        "id": "qDSUTIWRa93J"
      }
    },
    {
      "cell_type": "code",
      "source": [
        "model_checkpoint = \"Helsinki-NLP/opus-mt-en-ro\""
      ],
      "metadata": {
        "id": "gLtFVRxEbyjc"
      },
      "execution_count": 37,
      "outputs": []
    },
    {
      "cell_type": "markdown",
      "source": [
        "Here we picked the Helsinki-NLP/opus-mt-en-ro\" checkpoint."
      ],
      "metadata": {
        "id": "6Jqwt5A8bxWq"
      }
    },
    {
      "cell_type": "markdown",
      "source": [
        "\n",
        "##Loading the dataset\n",
        "\n",
        "We will use the 🤗 *Datasets* library to download the data and get the metric we need to use for evaluation (to compare our model to the benchmark). This can be easily done with the functions `load_dataset` and `load_metric`. We use the English/Romanian part of the WMT dataset here.\n"
      ],
      "metadata": {
        "id": "p2mdQP8-cPzV"
      }
    },
    {
      "cell_type": "code",
      "source": [
        "from datasets import load_dataset, load_metric\n",
        "raw_datasets = load_dataset(\"wmt16\", \"ro-en\")\n",
        "metric = load_metric(\"sacrebleu\")"
      ],
      "metadata": {
        "colab": {
          "base_uri": "https://localhost:8080/",
          "height": 86,
          "referenced_widgets": [
            "5e2e6e126df6435e97341245156d8785",
            "f2c41099552d4c27906ab44abf342271",
            "e71aa5865b7b42be963b3847f7b5f234",
            "f1d502a8aa614580bbbcedd245fb89b9",
            "317e72aae40048ce91929884a6fe4c9e",
            "3e4860483cbe40bb9603fafdee97c938",
            "1adec69de45b4dc89b28c2176900f582",
            "ad1a369defd545a981116a9404253401",
            "be8f3200a5aa433f979b97f5a89f852d",
            "077644bde24a4ed790f95b7aa1bdabb9",
            "04ba414a0ef04cc19b44d1f49a763cf6"
          ]
        },
        "id": "XvMQrzoMZ1JW",
        "outputId": "c8215ef9-fc03-4aa9-818f-4833513e6a23"
      },
      "execution_count": 38,
      "outputs": [
        {
          "output_type": "stream",
          "name": "stderr",
          "text": [
            "Reusing dataset wmt16 (/root/.cache/huggingface/datasets/wmt16/ro-en/1.0.0/9e0038fe4cc117bd474d2774032cc133e355146ed0a47021b2040ca9db4645c0)\n"
          ]
        },
        {
          "output_type": "display_data",
          "data": {
            "application/vnd.jupyter.widget-view+json": {
              "model_id": "5e2e6e126df6435e97341245156d8785",
              "version_minor": 0,
              "version_major": 2
            },
            "text/plain": [
              "  0%|          | 0/3 [00:00<?, ?it/s]"
            ]
          },
          "metadata": {}
        }
      ]
    },
    {
      "cell_type": "markdown",
      "source": [
        "The `dataset` object itself is `DatasetDict`, which contains one key for the training, validation and test set:"
      ],
      "metadata": {
        "id": "BtWDfVSqfDxE"
      }
    },
    {
      "cell_type": "code",
      "source": [
        "raw_datasets"
      ],
      "metadata": {
        "colab": {
          "base_uri": "https://localhost:8080/"
        },
        "id": "Iz5CSCCEdh9u",
        "outputId": "b7a3df62-0f80-47de-c9c1-162f7601dc22"
      },
      "execution_count": 39,
      "outputs": [
        {
          "output_type": "execute_result",
          "data": {
            "text/plain": [
              "DatasetDict({\n",
              "    train: Dataset({\n",
              "        features: ['translation'],\n",
              "        num_rows: 610320\n",
              "    })\n",
              "    validation: Dataset({\n",
              "        features: ['translation'],\n",
              "        num_rows: 1999\n",
              "    })\n",
              "    test: Dataset({\n",
              "        features: ['translation'],\n",
              "        num_rows: 1999\n",
              "    })\n",
              "})"
            ]
          },
          "metadata": {},
          "execution_count": 39
        }
      ]
    },
    {
      "cell_type": "markdown",
      "source": [
        "To access an actual element, you need to select a split first, then give an index:\n"
      ],
      "metadata": {
        "id": "aaK-BUiIfbBR"
      }
    },
    {
      "cell_type": "code",
      "source": [
        "raw_datasets[\"train\"][0]"
      ],
      "metadata": {
        "colab": {
          "base_uri": "https://localhost:8080/"
        },
        "id": "m8nHGraGfOCz",
        "outputId": "d8bbae30-a698-479d-f175-3bf73d9ff281"
      },
      "execution_count": 40,
      "outputs": [
        {
          "output_type": "execute_result",
          "data": {
            "text/plain": [
              "{'translation': {'en': 'Membership of Parliament: see Minutes',\n",
              "  'ro': 'Componenţa Parlamentului: a se vedea procesul-verbal'}}"
            ]
          },
          "metadata": {},
          "execution_count": 40
        }
      ]
    },
    {
      "cell_type": "markdown",
      "source": [
        "To get a sense of what the data looks like, the following function will show some examples picked randomly in the dataset.\n"
      ],
      "metadata": {
        "id": "SBRLtyBNfoQM"
      }
    },
    {
      "cell_type": "code",
      "source": [
        "import datasets\n",
        "import random\n",
        "import pandas as pd\n",
        "from IPython.display import display, HTML\n",
        "\n",
        "def show_random_elements(dataset, num_examples=5):\n",
        "    assert num_examples <= len(dataset), \"Can't pick more elements than there are in the dataset.\"\n",
        "    picks = []\n",
        "    for _ in range(num_examples):\n",
        "        pick = random.randint(0, len(dataset)-1)\n",
        "        while pick in picks:\n",
        "            pick = random.randint(0, len(dataset)-1)\n",
        "        picks.append(pick)\n",
        "    \n",
        "    df = pd.DataFrame(dataset[picks])\n",
        "    for column, typ in dataset.features.items():\n",
        "        if isinstance(typ, datasets.ClassLabel):\n",
        "            df[column] = df[column].transform(lambda i: typ.names[i])\n",
        "    display(HTML(df.to_html()))"
      ],
      "metadata": {
        "id": "5e017_LVfXKu"
      },
      "execution_count": 41,
      "outputs": []
    },
    {
      "cell_type": "code",
      "source": [
        "show_random_elements(raw_datasets[\"train\"])"
      ],
      "metadata": {
        "colab": {
          "base_uri": "https://localhost:8080/",
          "height": 345
        },
        "id": "ndAgdoacfptC",
        "outputId": "960f0434-9b5d-4ae2-a10f-47d3e85a4e25"
      },
      "execution_count": 42,
      "outputs": [
        {
          "output_type": "display_data",
          "data": {
            "text/html": [
              "<table border=\"1\" class=\"dataframe\">\n",
              "  <thead>\n",
              "    <tr style=\"text-align: right;\">\n",
              "      <th></th>\n",
              "      <th>translation</th>\n",
              "    </tr>\n",
              "  </thead>\n",
              "  <tbody>\n",
              "    <tr>\n",
              "      <th>0</th>\n",
              "      <td>{'en': 'A review of sports, entertainment and other cultural news from the Balkans since 7 May:', 'ro': 'O retrospectivă a evenimentelor din sport, divertisment şi alte informaţii culturale din Balcani, din 7 mai:'}</td>\n",
              "    </tr>\n",
              "    <tr>\n",
              "      <th>1</th>\n",
              "      <td>{'en': 'One of the issues discussed during a meeting between the two countries' delegations, headed by Sanader and BiH Council of Ministers Chairman Nikola Spiric, concerned the dispute over the use of the southern Croatian seaport of Ploce.', 'ro': 'Una din chestiunile discutate în cursul întâlnirii dintre delegaţiile celor două ţări, conduse de Sanader şi de preşedintele Consiliului de Miniştri al BiH Nikola Spiric, s-a referit la disputa legată de utilizarea portului Ploce din sudul Croaţiei.'}</td>\n",
              "    </tr>\n",
              "    <tr>\n",
              "      <th>2</th>\n",
              "      <td>{'en': 'Economic convergence, monitoring of the national budgetary and structural policy options, new instruments for financial market monitoring - all of this may give the impression that the apparatus of the Union is on the way to becoming pretty heavy-going and complicated.', 'ro': 'Convergenţa economică, monitorizarea opţiunilor naţionale de politică bugetară şi structurală, noile instrumente pentru monitorizarea pieţei financiare - toate acestea pot da impresia că aparatul Uniunii este pe cale să devină destul de greoi şi complicat.'}</td>\n",
              "    </tr>\n",
              "    <tr>\n",
              "      <th>3</th>\n",
              "      <td>{'en': 'This then limits the possibilities for investment, for example, in new rolling stock.', 'ro': 'La rândul său, acest lucru limitează posibilităţile de investiţii în noi materiale rulante, de pildă.'}</td>\n",
              "    </tr>\n",
              "    <tr>\n",
              "      <th>4</th>\n",
              "      <td>{'en': 'Yes?', 'ro': 'Da?'}</td>\n",
              "    </tr>\n",
              "  </tbody>\n",
              "</table>"
            ],
            "text/plain": [
              "<IPython.core.display.HTML object>"
            ]
          },
          "metadata": {}
        }
      ]
    },
    {
      "cell_type": "markdown",
      "source": [
        "The metric is an instance of `datasets.Metric`:"
      ],
      "metadata": {
        "id": "9FrV7Ikjf-C_"
      }
    },
    {
      "cell_type": "code",
      "source": [
        "metric"
      ],
      "metadata": {
        "colab": {
          "base_uri": "https://localhost:8080/"
        },
        "id": "IvUGqcXNfq0w",
        "outputId": "4d2434b7-6e8b-458c-dea6-a5a170606942"
      },
      "execution_count": 43,
      "outputs": [
        {
          "output_type": "execute_result",
          "data": {
            "text/plain": [
              "Metric(name: \"sacrebleu\", features: {'predictions': Value(dtype='string', id='sequence'), 'references': Sequence(feature=Value(dtype='string', id='sequence'), length=-1, id='references')}, usage: \"\"\"\n",
              "Produces BLEU scores along with its sufficient statistics\n",
              "from a source against one or more references.\n",
              "\n",
              "Args:\n",
              "    predictions: The system stream (a sequence of segments).\n",
              "    references: A list of one or more reference streams (each a sequence of segments).\n",
              "    smooth_method: The smoothing method to use. (Default: 'exp').\n",
              "    smooth_value: The smoothing value. Only valid for 'floor' and 'add-k'. (Defaults: floor: 0.1, add-k: 1).\n",
              "    tokenize: Tokenization method to use for BLEU. If not provided, defaults to 'zh' for Chinese, 'ja-mecab' for\n",
              "        Japanese and '13a' (mteval) otherwise.\n",
              "    lowercase: Lowercase the data. If True, enables case-insensitivity. (Default: False).\n",
              "    force: Insist that your tokenized input is actually detokenized.\n",
              "\n",
              "Returns:\n",
              "    'score': BLEU score,\n",
              "    'counts': Counts,\n",
              "    'totals': Totals,\n",
              "    'precisions': Precisions,\n",
              "    'bp': Brevity penalty,\n",
              "    'sys_len': predictions length,\n",
              "    'ref_len': reference length,\n",
              "\n",
              "Examples:\n",
              "\n",
              "    >>> predictions = [\"hello there general kenobi\", \"foo bar foobar\"]\n",
              "    >>> references = [[\"hello there general kenobi\", \"hello there !\"], [\"foo bar foobar\", \"foo bar foobar\"]]\n",
              "    >>> sacrebleu = datasets.load_metric(\"sacrebleu\")\n",
              "    >>> results = sacrebleu.compute(predictions=predictions, references=references)\n",
              "    >>> print(list(results.keys()))\n",
              "    ['score', 'counts', 'totals', 'precisions', 'bp', 'sys_len', 'ref_len']\n",
              "    >>> print(round(results[\"score\"], 1))\n",
              "    100.0\n",
              "\"\"\", stored examples: 0)"
            ]
          },
          "metadata": {},
          "execution_count": 43
        }
      ]
    },
    {
      "cell_type": "markdown",
      "source": [
        "\n",
        "##Preprocessing the data\n",
        "\n",
        "Before we can feed those texts to our model, we need to preprocess them. This is done by a 🤗 Transformers Tokenizer which will (as the name indicates) tokenize the inputs (including converting the tokens to their corresponding IDs in the pretrained vocabulary) and put it in a format the model expects, as well as generate the other inputs that model requires.\n",
        "\n",
        "To do all of this, we instantiate our tokenizer with the `AutoTokenizer.from_pretrained` method, which will ensure:\n",
        "\n",
        "* we get a tokenizer that corresponds to the model architecture we want to use,\n",
        "* we download the vocabulary used when pretraining this specific checkpoint.\n",
        "\n",
        "That vocabulary will be cached, so it's not downloaded again the next time we run the cell.\n"
      ],
      "metadata": {
        "id": "vLQ4OsUhUegi"
      }
    },
    {
      "cell_type": "code",
      "source": [
        "###WERITE YOUR CODE HERE (Don't forget to import what you need)\n",
        "\n",
        "tokenizer = \n",
        "###"
      ],
      "metadata": {
        "id": "YeD5heIMgbsk",
        "colab": {
          "base_uri": "https://localhost:8080/",
          "height": 177,
          "referenced_widgets": [
            "2695a90f3dc14899aa0ec627df873479",
            "e91700316a4d41ddb9b33d3bf89a25ad",
            "1a780886649f43d59ff4918a9a8de134",
            "d9fb1da0abcb4052abea186bd42e6bf8",
            "7ef64535e6a44aeabbdbeb42af645175",
            "5676bfb59f7c481a85ddf3e43927c075",
            "ef1a726f20c74f8bb9f41779a79e19d3",
            "939c5fdd39ae41a29741793194c66823",
            "0a4e436b56aa44c7973f807dcd954896",
            "11f5c6bc09024cea96811357c8391297",
            "6e47469e1afa4e77b791f473af4c0c86",
            "d56b01cd9bda40159e9cc59c99559eb4",
            "331d57ea48f34975b6fa39fc7936eefe",
            "54787c31313b4d279e0d067eff78261c",
            "91be89ef2cd5449d9e1ebac71701f62b",
            "7bff223e7ad24d76989558b96aa7cb7b",
            "9d89d59b6e7244898633710ed529ebe2",
            "ca0b4068ddeb4d569265f13041e3aac1",
            "77aef7c9371542cbaa3218184e912b95",
            "947f196c1963445488fad5bf6c609d8c",
            "a43727e59c574b25b615c9b2c7235d04",
            "765149300caf4646af5088cd573f8d18",
            "e770591217fe4167a26c6e4b1a125349",
            "d3cc2870ec704bc29b253ec98a2b6faf",
            "50a216a4ff004382ac1ce74e1177b7ec",
            "3e1d5f30eb2b420db33b055468343f60",
            "a14847a5a9704bb488e53adb5ec56f06",
            "e1d440f06258445d83e1ca799d237bce",
            "4fddcd69b3004556b63aab28d83e2830",
            "4d291c4d77184af5ad9fa9f9780f8f9c",
            "465bfdea55584bdaa40728e004b202f0",
            "fb4b57e78ff24e09b1bcc9ef6dd72935",
            "79ceee84ae654e44b9a596abf374fa09",
            "2a7e0ce5c511482f81d1bbaebf35f9d5",
            "8bf56f9a22144559b46171f4d34a5338",
            "96d4c53abb594f6b9973ae7e43fb0e68",
            "c3826a31999e40cf87083ff64aae2b3a",
            "cf877223d7d2445c89381a19e23acd1c",
            "d2da41d03c104a77ba0d15f5df5cdbf3",
            "e0d67f6d9af14625af0c9a2155a49af1",
            "df6bdc9620a245419bacc543af3ec3bb",
            "f6abc8e69d7049a39484be4cb308edaf",
            "f8d9d4e9ebf64759a9619ba700f08643",
            "1cb3f93c1e8c4b6896677b0c9503505a",
            "7bcde05462a94048b1ab2cc6b00654da",
            "d14b9a8438f64e59bf1172d720a6ff6b",
            "9bfeba7b1a69441c86e8e9c07b91b805",
            "a84c22b883a14b868c1b199c72f402ce",
            "f29b8e9129e14aae92a11557a42f5227",
            "1e215f3639c447309bd2a36f9d4dac1a",
            "0551e3628e724793acc744451555e264",
            "77bf236757cc424584ae4244678b1dba",
            "22e7ad51d0254908ab4578affccefb65",
            "6c307d6e3e204e8ab370ac484a86392f",
            "35060c0eb8f340bfa85e6df5b5dde0e5"
          ]
        },
        "outputId": "d7a13d9a-d5e0-4603-f3f2-38f0211583ec"
      },
      "execution_count": 12,
      "outputs": [
        {
          "output_type": "display_data",
          "data": {
            "application/vnd.jupyter.widget-view+json": {
              "model_id": "2695a90f3dc14899aa0ec627df873479",
              "version_minor": 0,
              "version_major": 2
            },
            "text/plain": [
              "Downloading:   0%|          | 0.00/42.0 [00:00<?, ?B/s]"
            ]
          },
          "metadata": {}
        },
        {
          "output_type": "display_data",
          "data": {
            "application/vnd.jupyter.widget-view+json": {
              "model_id": "d56b01cd9bda40159e9cc59c99559eb4",
              "version_minor": 0,
              "version_major": 2
            },
            "text/plain": [
              "Downloading:   0%|          | 0.00/1.11k [00:00<?, ?B/s]"
            ]
          },
          "metadata": {}
        },
        {
          "output_type": "display_data",
          "data": {
            "application/vnd.jupyter.widget-view+json": {
              "model_id": "e770591217fe4167a26c6e4b1a125349",
              "version_minor": 0,
              "version_major": 2
            },
            "text/plain": [
              "Downloading:   0%|          | 0.00/770k [00:00<?, ?B/s]"
            ]
          },
          "metadata": {}
        },
        {
          "output_type": "display_data",
          "data": {
            "application/vnd.jupyter.widget-view+json": {
              "model_id": "2a7e0ce5c511482f81d1bbaebf35f9d5",
              "version_minor": 0,
              "version_major": 2
            },
            "text/plain": [
              "Downloading:   0%|          | 0.00/798k [00:00<?, ?B/s]"
            ]
          },
          "metadata": {}
        },
        {
          "output_type": "display_data",
          "data": {
            "application/vnd.jupyter.widget-view+json": {
              "model_id": "7bcde05462a94048b1ab2cc6b00654da",
              "version_minor": 0,
              "version_major": 2
            },
            "text/plain": [
              "Downloading:   0%|          | 0.00/1.33M [00:00<?, ?B/s]"
            ]
          },
          "metadata": {}
        }
      ]
    },
    {
      "cell_type": "code",
      "source": [
        "tokenizer"
      ],
      "metadata": {
        "colab": {
          "base_uri": "https://localhost:8080/"
        },
        "id": "k25slLkqXHWz",
        "outputId": "00073a42-9488-4206-83bc-bf98f2c9acf1"
      },
      "execution_count": 13,
      "outputs": [
        {
          "output_type": "execute_result",
          "data": {
            "text/plain": [
              "PreTrainedTokenizer(name_or_path='Helsinki-NLP/opus-mt-en-ro', vocab_size=59543, model_max_len=512, is_fast=False, padding_side='right', special_tokens={'eos_token': '</s>', 'unk_token': '<unk>', 'pad_token': '<pad>'})"
            ]
          },
          "metadata": {},
          "execution_count": 13
        }
      ]
    },
    {
      "cell_type": "markdown",
      "source": [
        "For the mBART tokenizer (like we have here), we need to set the source and target languages (so the texts are preprocessed properly)."
      ],
      "metadata": {
        "id": "4vSKtggoUeFi"
      }
    },
    {
      "cell_type": "code",
      "source": [
        "if \"mbart\" in model_checkpoint:\n",
        "  tokenizer.source_lang=\"en-XX\"\n",
        "  tokenizer.target_lang = \"ro-RO\""
      ],
      "metadata": {
        "id": "tMsqbecMXpzB"
      },
      "execution_count": 14,
      "outputs": []
    },
    {
      "cell_type": "markdown",
      "source": [
        "\n",
        "By default, the call above will use one of the fast tokenizers (backed by Rust) from the 🤗 Tokenizers library.\n",
        "\n",
        "You can directly call this tokenizer on one sentence or a pair of sentences:\n"
      ],
      "metadata": {
        "id": "4I8rKHTVX8VI"
      }
    },
    {
      "cell_type": "code",
      "source": [
        "tokenizer(\"Hello AI DAY folks, this is one sentence!\")"
      ],
      "metadata": {
        "colab": {
          "base_uri": "https://localhost:8080/"
        },
        "id": "M1IEAGEOX3mJ",
        "outputId": "161a1f29-1c7e-4ef1-d915-caed6e7dcff2"
      },
      "execution_count": 15,
      "outputs": [
        {
          "output_type": "execute_result",
          "data": {
            "text/plain": [
              "{'input_ids': [125, 778, 67, 317, 27767, 7100, 11, 3, 63, 32, 141, 9191, 23, 0], 'attention_mask': [1, 1, 1, 1, 1, 1, 1, 1, 1, 1, 1, 1, 1, 1]}"
            ]
          },
          "metadata": {},
          "execution_count": 15
        }
      ]
    },
    {
      "cell_type": "markdown",
      "source": [
        "Depending on the model you selected, you will see different keys in the dictionary returned by the cell above. They don't matter much for what we're doing here (just know they are required by the model we will instantiate later)."
      ],
      "metadata": {
        "id": "0aCxADKmYnW-"
      }
    },
    {
      "cell_type": "markdown",
      "source": [
        "Instead of one sentence, we can pass along a list of sentences:"
      ],
      "metadata": {
        "id": "rXUhSuP_YyX3"
      }
    },
    {
      "cell_type": "code",
      "source": [
        "tokenizer([\"Hello AI DAY folks, this is one sentence!\", \"This is another sentence.\"])"
      ],
      "metadata": {
        "colab": {
          "base_uri": "https://localhost:8080/"
        },
        "id": "uC6FwvzGYG_x",
        "outputId": "cdc6f370-77e4-4efc-cf8b-2bba3f256115"
      },
      "execution_count": 16,
      "outputs": [
        {
          "output_type": "execute_result",
          "data": {
            "text/plain": [
              "{'input_ids': [[125, 778, 67, 317, 27767, 7100, 11, 3, 63, 32, 141, 9191, 23, 0], [187, 32, 716, 9191, 2, 0]], 'attention_mask': [[1, 1, 1, 1, 1, 1, 1, 1, 1, 1, 1, 1, 1, 1], [1, 1, 1, 1, 1, 1]]}"
            ]
          },
          "metadata": {},
          "execution_count": 16
        }
      ]
    },
    {
      "cell_type": "markdown",
      "source": [
        "To prepare the targets for our model, we need to tokenize them inside the `as_target_tokenizer` context manager. This will make sure the tokenizer uses the special tokens corresponding to the targets:\n",
        "\n",
        "try this at this two sentences : \n",
        "```python\n",
        "[\"Hello AI DAY folks, this is one sentence!\", \"This is another sentence.\"]\n",
        "```"
      ],
      "metadata": {
        "id": "C0fLZZxsawZT"
      }
    },
    {
      "cell_type": "code",
      "source": [
        "###WRITE YOUR CODE HERE\n",
        "with \n",
        "##"
      ],
      "metadata": {
        "colab": {
          "base_uri": "https://localhost:8080/"
        },
        "id": "Wx-p_cAOY53-",
        "outputId": "0c158a76-2245-454d-8f92-a5a73ba95685"
      },
      "execution_count": 18,
      "outputs": [
        {
          "output_type": "stream",
          "name": "stdout",
          "text": [
            "{'input_ids': [[10334, 1204, 18216, 8899, 1289, 6775, 105, 3792, 3, 15, 8915, 32, 27, 452, 59, 29579, 581, 23, 0], [235, 1705, 11, 32, 8, 1205, 5305, 59, 29579, 581, 2, 0]], 'attention_mask': [[1, 1, 1, 1, 1, 1, 1, 1, 1, 1, 1, 1, 1, 1, 1, 1, 1, 1, 1], [1, 1, 1, 1, 1, 1, 1, 1, 1, 1, 1, 1]]}\n"
          ]
        }
      ]
    },
    {
      "cell_type": "markdown",
      "source": [
        "If you are using one of the five T5 checkpoints that require a special prefix to put before the inputs, you should adapt the following cell."
      ],
      "metadata": {
        "id": "LqUUTJG8bi2W"
      }
    },
    {
      "cell_type": "code",
      "source": [
        "if model_checkpoint in [\"t5-small\", \"t5-base\", \"t5-larg\", \"t5-3b\", \"t5-11b\"]:\n",
        "    prefix = \"translate English to Romanian: \"\n",
        "else:\n",
        "    prefix = \"\""
      ],
      "metadata": {
        "id": "keC-AI8qbMwu"
      },
      "execution_count": 19,
      "outputs": []
    },
    {
      "cell_type": "markdown",
      "source": [
        "We can then write the function that will preprocess our samples. We just feed them to the tokenizer with the argument `truncation=True`. This will ensure that an input longer that what the model selected can handle will be truncated to the maximum length accepted by the model. The padding will be dealt with later on (in a data collator) so we pad examples to the longest length in the batch and not the whole dataset.\n",
        "\n",
        "Complete the code bellow:\n",
        "\n",
        "1. Tokenize the inputs by setting the `max_length` to `max_target_length`.\n",
        "2. Setup labels using `as_target_tokenizer` context manager"
      ],
      "metadata": {
        "id": "XxLvC5OocuvU"
      }
    },
    {
      "cell_type": "code",
      "source": [
        "max_input_length = 128\n",
        "max_target_length = 128\n",
        "source_lang = \"en\"\n",
        "target_lang = \"ro\"\n",
        "\n",
        "def preprocess_function(examples):\n",
        "    inputs = [prefix + ex[source_lang] for ex in examples[\"translation\"]]\n",
        "    targets = [ex[target_lang] for ex in examples[\"translation\"]]\n",
        "    ###TOKINIZE YOUR INPUTS\n",
        "    model_inputs = \n",
        "    ##\n",
        "    \n",
        "    # Setup the tokenizer for targets\n",
        "    ##WRITE YOUR CODE HERE\n",
        "      \n",
        "      labels = \n",
        "    ##\n",
        "\n",
        "    model_inputs[\"labels\"] = labels[\"input_ids\"]\n",
        "    return model_inputs\n",
        "\n"
      ],
      "metadata": {
        "id": "x_2IUqM9bTvR"
      },
      "execution_count": 20,
      "outputs": []
    },
    {
      "cell_type": "markdown",
      "source": [
        "This function works with one or several examples. In the case of several examples, the tokenizer will return a list of lists for each key:"
      ],
      "metadata": {
        "id": "SEQBXscUeu1i"
      }
    },
    {
      "cell_type": "code",
      "source": [
        "preprocess_function(raw_datasets['train'][:2])"
      ],
      "metadata": {
        "colab": {
          "base_uri": "https://localhost:8080/"
        },
        "id": "-8-EzoS0euU9",
        "outputId": "b32d7f77-f1cb-4294-cf4d-27d9a6204c27"
      },
      "execution_count": 21,
      "outputs": [
        {
          "output_type": "execute_result",
          "data": {
            "text/plain": [
              "{'input_ids': [[393, 4462, 14, 1137, 53, 216, 28636, 0], [24385, 14, 28636, 14, 4646, 4622, 53, 216, 28636, 0]], 'attention_mask': [[1, 1, 1, 1, 1, 1, 1, 1], [1, 1, 1, 1, 1, 1, 1, 1, 1, 1]], 'labels': [[42140, 494, 1750, 53, 8, 59, 903, 3543, 9, 15202, 0], [36199, 6612, 9, 15202, 122, 568, 35788, 21549, 53, 8, 59, 903, 3543, 9, 15202, 0]]}"
            ]
          },
          "metadata": {},
          "execution_count": 21
        }
      ]
    },
    {
      "cell_type": "markdown",
      "source": [
        "To apply this function on all the pairs of sentences in our dataset, we just use the `map` method of our `dataset` object we created earlier. This will apply the function on all the elements of all the splits in dataset, so our training, validation and testing data will be preprocessed in one single command.\n"
      ],
      "metadata": {
        "id": "7D5NBGQ5fT_r"
      }
    },
    {
      "cell_type": "code",
      "source": [
        "###WRITE YOUR CODE HERE (TURN batched to True)\n",
        "tokenized_datasets = \n",
        "##"
      ],
      "metadata": {
        "colab": {
          "base_uri": "https://localhost:8080/",
          "height": 113,
          "referenced_widgets": [
            "236e12c3665b47a4bfa021e01af28685",
            "f024a6bd59244c9fb8f8121aacd4eb22",
            "04654e5aff30494d8b3b55a05a36541c",
            "1093543730e74266bcc5f8cd44bfd8d1",
            "9f38c077aaa540b3b0f980e4b9437258",
            "2b3cc9ff27824f478b945bbef8a20f22",
            "ae8c508a74694d7baaf6407b42dd3cd7",
            "2560b4d3a9664621814e2ff58b4a50e5",
            "ca06a7e75e5e4469b4a844e18fc090d0",
            "9c5661da30b84c029fadec623fb24f43",
            "c363d67b883742679bab4afc1ab90118",
            "4b82178fc43c41fc9a6a7fcf7fc4dea6",
            "485f1c12b40844ce81312247e4b42f5e",
            "17400176ea894fa79d5dd5ff3582c971",
            "4c2218f3e6644121a57ffc8cd051a656",
            "4a49d5388f5442b788de935040beb4bf",
            "88bacf99d867427aa3e204654adc946a",
            "542dc8c02475441e800e3794af867671",
            "7eed78e2966443fd9558d3ec181f04dc",
            "22e00740a497490190087e7aff888490",
            "c98ff7d03123421886301e0c466ebf75",
            "abdc1828eb0e413ea519d2bd1ade6f96",
            "a980932af31040ac9be4e52ecda4dcf4",
            "c2c836c27de84305b10cc61493fc1f58",
            "d33231bfae0041a98b332224c5b6976f",
            "db3465e9bbe74e0fb9d73e08d3c9d112",
            "770e5fae9a5840a0a1943b21cf482cd9",
            "5304a4770ba34f7b8cbe0c3bd5ef9caf",
            "ad0b97159b0c4dfe87e4a78416312c2f",
            "a0d3b6d2af1245e9b23caab6148ad405",
            "3cc49ef082e94eb8a4e2adc8cce4de59",
            "77411e2bbb2e47a49821c65705698b8d",
            "dc6064b5a09c496b914a4e33074412fb"
          ]
        },
        "id": "HF1oUtshenZx",
        "outputId": "1dc5e2c5-9dc0-401c-dff8-49f3a94be8f5"
      },
      "execution_count": 22,
      "outputs": [
        {
          "output_type": "display_data",
          "data": {
            "application/vnd.jupyter.widget-view+json": {
              "model_id": "236e12c3665b47a4bfa021e01af28685",
              "version_minor": 0,
              "version_major": 2
            },
            "text/plain": [
              "  0%|          | 0/611 [00:00<?, ?ba/s]"
            ]
          },
          "metadata": {}
        },
        {
          "output_type": "display_data",
          "data": {
            "application/vnd.jupyter.widget-view+json": {
              "model_id": "4b82178fc43c41fc9a6a7fcf7fc4dea6",
              "version_minor": 0,
              "version_major": 2
            },
            "text/plain": [
              "  0%|          | 0/2 [00:00<?, ?ba/s]"
            ]
          },
          "metadata": {}
        },
        {
          "output_type": "display_data",
          "data": {
            "application/vnd.jupyter.widget-view+json": {
              "model_id": "a980932af31040ac9be4e52ecda4dcf4",
              "version_minor": 0,
              "version_major": 2
            },
            "text/plain": [
              "  0%|          | 0/2 [00:00<?, ?ba/s]"
            ]
          },
          "metadata": {}
        }
      ]
    },
    {
      "cell_type": "markdown",
      "source": [
        "Even better, the results are automatically cached by the 🤗 Datasets library to avoid spending time on this step the next time you run your notebook. The 🤗 Datasets library is normally smart enough to detect when the function you pass to map has changed (and thus requires to not use the cache data). For instance, it will properly detect if you change the task in the first cell and rerun the notebook. 🤗 Datasets warns you when it uses cached files, you can pass `load_from_cache_file=False` in the call to map to not use the cached files and force the preprocessing to be applied again."
      ],
      "metadata": {
        "id": "NEeQyNsCf2nX"
      }
    },
    {
      "cell_type": "markdown",
      "source": [
        "Note that we passed `batched=True` to encode the texts by batches together. This is to leverage the full benefit of the fast tokenizer we loaded earlier, which will use multi-threading to treat the texts in a batch concurrently."
      ],
      "metadata": {
        "id": "jnzTW55Jg00i"
      }
    },
    {
      "cell_type": "markdown",
      "source": [
        "\n",
        "##Fine-tuning the model\n",
        "\n",
        "Now that our data is ready, we can download the pretrained model and fine-tune it. Since our task is of the sequence-to-sequence kind, we use the `AutoModelForSeq2SeqLM` class. Like with the tokenizer, the `from_pretrained` method will download and cache the model for us.\n"
      ],
      "metadata": {
        "id": "3-2RTjpIhP_O"
      }
    },
    {
      "cell_type": "code",
      "source": [
        "from transformers import AutoModelForSeq2SeqLM, DataCollatorForSeq2Seq, Seq2SeqTrainingArguments, Seq2SeqTrainer\n",
        "###Write your code here\n",
        "model = \n",
        "##\n"
      ],
      "metadata": {
        "colab": {
          "base_uri": "https://localhost:8080/",
          "height": 49,
          "referenced_widgets": [
            "6706cd2389474a28a589a7306ca47ad7",
            "278d4cb3a62d400dba0e9647146a951d",
            "8dd529b3f0eb47a68fe854a2351a1072",
            "522dede441524e54a6070e14dbe4a5af",
            "71b9c59e0bdb4d55a205dfd2d137c365",
            "16795eb0650c4ea3b72b8671e0a93ed0",
            "64d4f123d4384be89816df72bf45152f",
            "e933dc9e68e8456c9d3884d0d9364bad",
            "8bced4f59d8c4861b61f3d365ea39c4e",
            "809bc3ab67cb46d5bfc7666468e93af1",
            "28e4d8be22354a08b58a570fe10f9098"
          ]
        },
        "id": "5x79pi6EhPeN",
        "outputId": "44ca17ed-ed86-4dbb-deb5-2cb1b2dafbc6"
      },
      "execution_count": 23,
      "outputs": [
        {
          "output_type": "display_data",
          "data": {
            "application/vnd.jupyter.widget-view+json": {
              "model_id": "6706cd2389474a28a589a7306ca47ad7",
              "version_minor": 0,
              "version_major": 2
            },
            "text/plain": [
              "Downloading:   0%|          | 0.00/287M [00:00<?, ?B/s]"
            ]
          },
          "metadata": {}
        }
      ]
    },
    {
      "cell_type": "markdown",
      "source": [
        "To instantiate a `Seq2SeqTrainer`, we will need to define three more things. The most important is the `Seq2SeqTrainingArguments`, which is a class that contains all the attributes to customize the training. It requires one folder name, which will be used to save the checkpoints of the model, and all other arguments are optional:"
      ],
      "metadata": {
        "id": "wV-8q9R0iqsM"
      }
    },
    {
      "cell_type": "code",
      "source": [
        "\n",
        "\n",
        "batch_size = 16\n",
        "model_name = model_checkpoint.split(\"/\")[-1]\n",
        "args = Seq2SeqTrainingArguments(\n",
        "    f\"{model_name}-finetuned-{source_lang}-to-{target_lang}\",\n",
        "    evaluation_strategy = \"epoch\",\n",
        "    learning_rate=2e-5,\n",
        "    per_device_train_batch_size=batch_size,\n",
        "    per_device_eval_batch_size=batch_size,\n",
        "    weight_decay=0.01,\n",
        "    save_total_limit=3,\n",
        "    num_train_epochs=1,\n",
        "    predict_with_generate=True,\n",
        "    fp16=True,\n",
        "    push_to_hub=True,\n",
        ")\n",
        "\n"
      ],
      "metadata": {
        "id": "e8tRnbg1fdyz"
      },
      "execution_count": 24,
      "outputs": []
    },
    {
      "cell_type": "markdown",
      "source": [
        "Here we set the evaluation to be done at the end of each epoch, tweak the learning rate, use the `batch_size` defined at the top of the cell and customize the weight decay. Since the `Seq2SeqTrainer` will save the model regularly and our dataset is quite large, we tell it to make three saves maximum. Lastly, we use the `predict_with_generate` option (to properly generate summaries) and activate mixed precision training (to go a bit faster)."
      ],
      "metadata": {
        "id": "nx5rWCxSko_e"
      }
    },
    {
      "cell_type": "markdown",
      "source": [
        "The last argument to setup everything so we can push the model to the Hub regularly during training. Remove it if you didn't follow the installation steps at the top of the notebook. If you want to save your model locally in a name that is different than the name of the repository it will be pushed, or if you want to push your model under an organization and not your name space, use the `hub_model_id` argument to set the repo name (it needs to be the full name, including your namespace: for instance `\"Aymen311/trslt-finetuned-en-to-ro\"` or `\"SOAI/trslt-finetuned-en-to-ro\"`)."
      ],
      "metadata": {
        "id": "37M1ayiLlhda"
      }
    },
    {
      "cell_type": "markdown",
      "source": [
        "Then, we need a special kind of data collator, which will not only pad the inputs to the maximum length in the batch, but also the labels:"
      ],
      "metadata": {
        "id": "asGwN0AMmAnB"
      }
    },
    {
      "cell_type": "code",
      "source": [
        "data_collator = DataCollatorForSeq2Seq(tokenizer, model=model)"
      ],
      "metadata": {
        "id": "cAvImQQHmAV4"
      },
      "execution_count": 25,
      "outputs": []
    },
    {
      "cell_type": "markdown",
      "source": [
        "The last thing to define for our `Seq2SeqTrainer` is how to compute the metrics from the predictions. We need to define a function for this, which will just use the `metric` we loaded earlier, and we have to do a bit of pre-processing to decode the predictions into texts:\n"
      ],
      "metadata": {
        "id": "QDoVq50bmhbo"
      }
    },
    {
      "cell_type": "code",
      "source": [
        "import numpy as np\n",
        "\n",
        "def postprocess_text(preds, labels):\n",
        "    preds = [pred.strip() for pred in preds]\n",
        "    labels = [[label.strip()] for label in labels]\n",
        "\n",
        "    return preds, labels\n",
        "\n",
        "def compute_metrics(eval_preds):\n",
        "    preds, labels = eval_preds\n",
        "    if isinstance(preds, tuple):\n",
        "        preds = preds[0]\n",
        "    decoded_preds = tokenizer.batch_decode(preds, skip_special_tokens=True)\n",
        "\n",
        "    # Replace -100 in the labels as we can't decode them.\n",
        "    labels = np.where(labels != -100, labels, tokenizer.pad_token_id)\n",
        "    decoded_labels = tokenizer.batch_decode(labels, skip_special_tokens=True)\n",
        "\n",
        "    # Some simple post-processing\n",
        "    decoded_preds, decoded_labels = postprocess_text(decoded_preds, decoded_labels)\n",
        "\n",
        "    result = metric.compute(predictions=decoded_preds, references=decoded_labels)\n",
        "    result = {\"bleu\": result[\"score\"]}\n",
        "\n",
        "    prediction_lens = [np.count_nonzero(pred != tokenizer.pad_token_id) for pred in preds]\n",
        "    result[\"gen_len\"] = np.mean(prediction_lens)\n",
        "    result = {k: round(v, 4) for k, v in result.items()}\n",
        "    return result"
      ],
      "metadata": {
        "id": "TjIqowBcjbiB"
      },
      "execution_count": 27,
      "outputs": []
    },
    {
      "cell_type": "markdown",
      "source": [
        "Then we just need to pass all of this along with our datasets to the `Seq2SeqTrainer`:\n",
        "\n",
        "you'll have to pass the model, arguments, train dataset, eval dataset, datacollator, tokenizer and the compute metrics"
      ],
      "metadata": {
        "id": "YIiav6QKoCym"
      }
    },
    {
      "cell_type": "code",
      "source": [
        "###Write your code here\n",
        "trainer = \n",
        "##"
      ],
      "metadata": {
        "colab": {
          "base_uri": "https://localhost:8080/"
        },
        "id": "jLTJnx_2oBKl",
        "outputId": "1193d79a-14b4-4897-fdc5-f5c7f2e9152b"
      },
      "execution_count": 33,
      "outputs": [
        {
          "output_type": "stream",
          "name": "stderr",
          "text": [
            "Cloning https://huggingface.co/Aymene/opus-mt-en-ro-finetuned-en-to-ro into local empty directory.\n",
            "Using amp half precision backend\n"
          ]
        }
      ]
    },
    {
      "cell_type": "markdown",
      "source": [
        "We can now finetune our model by just calling the `train` method:"
      ],
      "metadata": {
        "id": "DklEvz2soWq2"
      }
    },
    {
      "cell_type": "code",
      "source": [
        "###Write your code here \n",
        "\n",
        "##"
      ],
      "metadata": {
        "colab": {
          "base_uri": "https://localhost:8080/",
          "height": 581
        },
        "id": "etjZqWjpoMXm",
        "outputId": "984a53e4-8b51-41f5-de8f-ffcac8813fab"
      },
      "execution_count": 35,
      "outputs": [
        {
          "output_type": "stream",
          "name": "stderr",
          "text": [
            "The following columns in the training set  don't have a corresponding argument in `MarianMTModel.forward` and have been ignored: translation.\n",
            "***** Running training *****\n",
            "  Num examples = 610320\n",
            "  Num Epochs = 1\n",
            "  Instantaneous batch size per device = 16\n",
            "  Total train batch size (w. parallel, distributed & accumulation) = 16\n",
            "  Gradient Accumulation steps = 1\n",
            "  Total optimization steps = 38145\n"
          ]
        },
        {
          "output_type": "display_data",
          "data": {
            "text/html": [
              "\n",
              "    <div>\n",
              "      \n",
              "      <progress value='78' max='38145' style='width:300px; height:20px; vertical-align: middle;'></progress>\n",
              "      [   78/38145 00:09 < 1:19:16, 8.00 it/s, Epoch 0.00/1]\n",
              "    </div>\n",
              "    <table border=\"1\" class=\"dataframe\">\n",
              "  <thead>\n",
              "    <tr style=\"text-align: left;\">\n",
              "      <th>Epoch</th>\n",
              "      <th>Training Loss</th>\n",
              "      <th>Validation Loss</th>\n",
              "    </tr>\n",
              "  </thead>\n",
              "  <tbody>\n",
              "  </tbody>\n",
              "</table><p>"
            ],
            "text/plain": [
              "<IPython.core.display.HTML object>"
            ]
          },
          "metadata": {}
        },
        {
          "output_type": "error",
          "ename": "KeyboardInterrupt",
          "evalue": "ignored",
          "traceback": [
            "\u001b[0;31m---------------------------------------------------------------------------\u001b[0m",
            "\u001b[0;31mKeyboardInterrupt\u001b[0m                         Traceback (most recent call last)",
            "\u001b[0;32m<ipython-input-35-80603323121d>\u001b[0m in \u001b[0;36m<module>\u001b[0;34m()\u001b[0m\n\u001b[1;32m      1\u001b[0m \u001b[0;31m###Write your code here\u001b[0m\u001b[0;34m\u001b[0m\u001b[0;34m\u001b[0m\u001b[0;34m\u001b[0m\u001b[0m\n\u001b[0;32m----> 2\u001b[0;31m \u001b[0mtrainer\u001b[0m\u001b[0;34m.\u001b[0m\u001b[0mtrain\u001b[0m\u001b[0;34m(\u001b[0m\u001b[0;34m)\u001b[0m\u001b[0;34m\u001b[0m\u001b[0;34m\u001b[0m\u001b[0m\n\u001b[0m\u001b[1;32m      3\u001b[0m \u001b[0;31m##\u001b[0m\u001b[0;34m\u001b[0m\u001b[0;34m\u001b[0m\u001b[0;34m\u001b[0m\u001b[0m\n",
            "\u001b[0;32m/usr/local/lib/python3.7/dist-packages/transformers/trainer.py\u001b[0m in \u001b[0;36mtrain\u001b[0;34m(self, resume_from_checkpoint, trial, ignore_keys_for_eval, **kwargs)\u001b[0m\n\u001b[1;32m   1330\u001b[0m                         \u001b[0mtr_loss_step\u001b[0m \u001b[0;34m=\u001b[0m \u001b[0mself\u001b[0m\u001b[0;34m.\u001b[0m\u001b[0mtraining_step\u001b[0m\u001b[0;34m(\u001b[0m\u001b[0mmodel\u001b[0m\u001b[0;34m,\u001b[0m \u001b[0minputs\u001b[0m\u001b[0;34m)\u001b[0m\u001b[0;34m\u001b[0m\u001b[0;34m\u001b[0m\u001b[0m\n\u001b[1;32m   1331\u001b[0m                 \u001b[0;32melse\u001b[0m\u001b[0;34m:\u001b[0m\u001b[0;34m\u001b[0m\u001b[0;34m\u001b[0m\u001b[0m\n\u001b[0;32m-> 1332\u001b[0;31m                     \u001b[0mtr_loss_step\u001b[0m \u001b[0;34m=\u001b[0m \u001b[0mself\u001b[0m\u001b[0;34m.\u001b[0m\u001b[0mtraining_step\u001b[0m\u001b[0;34m(\u001b[0m\u001b[0mmodel\u001b[0m\u001b[0;34m,\u001b[0m \u001b[0minputs\u001b[0m\u001b[0;34m)\u001b[0m\u001b[0;34m\u001b[0m\u001b[0;34m\u001b[0m\u001b[0m\n\u001b[0m\u001b[1;32m   1333\u001b[0m \u001b[0;34m\u001b[0m\u001b[0m\n\u001b[1;32m   1334\u001b[0m                 if (\n",
            "\u001b[0;32m/usr/local/lib/python3.7/dist-packages/transformers/trainer.py\u001b[0m in \u001b[0;36mtraining_step\u001b[0;34m(self, model, inputs)\u001b[0m\n\u001b[1;32m   1899\u001b[0m \u001b[0;34m\u001b[0m\u001b[0m\n\u001b[1;32m   1900\u001b[0m         \u001b[0;32mif\u001b[0m \u001b[0mself\u001b[0m\u001b[0;34m.\u001b[0m\u001b[0mdo_grad_scaling\u001b[0m\u001b[0;34m:\u001b[0m\u001b[0;34m\u001b[0m\u001b[0;34m\u001b[0m\u001b[0m\n\u001b[0;32m-> 1901\u001b[0;31m             \u001b[0mself\u001b[0m\u001b[0;34m.\u001b[0m\u001b[0mscaler\u001b[0m\u001b[0;34m.\u001b[0m\u001b[0mscale\u001b[0m\u001b[0;34m(\u001b[0m\u001b[0mloss\u001b[0m\u001b[0;34m)\u001b[0m\u001b[0;34m.\u001b[0m\u001b[0mbackward\u001b[0m\u001b[0;34m(\u001b[0m\u001b[0;34m)\u001b[0m\u001b[0;34m\u001b[0m\u001b[0;34m\u001b[0m\u001b[0m\n\u001b[0m\u001b[1;32m   1902\u001b[0m         \u001b[0;32melif\u001b[0m \u001b[0mself\u001b[0m\u001b[0;34m.\u001b[0m\u001b[0muse_apex\u001b[0m\u001b[0;34m:\u001b[0m\u001b[0;34m\u001b[0m\u001b[0;34m\u001b[0m\u001b[0m\n\u001b[1;32m   1903\u001b[0m             \u001b[0;32mwith\u001b[0m \u001b[0mamp\u001b[0m\u001b[0;34m.\u001b[0m\u001b[0mscale_loss\u001b[0m\u001b[0;34m(\u001b[0m\u001b[0mloss\u001b[0m\u001b[0;34m,\u001b[0m \u001b[0mself\u001b[0m\u001b[0;34m.\u001b[0m\u001b[0moptimizer\u001b[0m\u001b[0;34m)\u001b[0m \u001b[0;32mas\u001b[0m \u001b[0mscaled_loss\u001b[0m\u001b[0;34m:\u001b[0m\u001b[0;34m\u001b[0m\u001b[0;34m\u001b[0m\u001b[0m\n",
            "\u001b[0;32m/usr/local/lib/python3.7/dist-packages/torch/_tensor.py\u001b[0m in \u001b[0;36mbackward\u001b[0;34m(self, gradient, retain_graph, create_graph, inputs)\u001b[0m\n\u001b[1;32m    305\u001b[0m                 \u001b[0mcreate_graph\u001b[0m\u001b[0;34m=\u001b[0m\u001b[0mcreate_graph\u001b[0m\u001b[0;34m,\u001b[0m\u001b[0;34m\u001b[0m\u001b[0;34m\u001b[0m\u001b[0m\n\u001b[1;32m    306\u001b[0m                 inputs=inputs)\n\u001b[0;32m--> 307\u001b[0;31m         \u001b[0mtorch\u001b[0m\u001b[0;34m.\u001b[0m\u001b[0mautograd\u001b[0m\u001b[0;34m.\u001b[0m\u001b[0mbackward\u001b[0m\u001b[0;34m(\u001b[0m\u001b[0mself\u001b[0m\u001b[0;34m,\u001b[0m \u001b[0mgradient\u001b[0m\u001b[0;34m,\u001b[0m \u001b[0mretain_graph\u001b[0m\u001b[0;34m,\u001b[0m \u001b[0mcreate_graph\u001b[0m\u001b[0;34m,\u001b[0m \u001b[0minputs\u001b[0m\u001b[0;34m=\u001b[0m\u001b[0minputs\u001b[0m\u001b[0;34m)\u001b[0m\u001b[0;34m\u001b[0m\u001b[0;34m\u001b[0m\u001b[0m\n\u001b[0m\u001b[1;32m    308\u001b[0m \u001b[0;34m\u001b[0m\u001b[0m\n\u001b[1;32m    309\u001b[0m     \u001b[0;32mdef\u001b[0m \u001b[0mregister_hook\u001b[0m\u001b[0;34m(\u001b[0m\u001b[0mself\u001b[0m\u001b[0;34m,\u001b[0m \u001b[0mhook\u001b[0m\u001b[0;34m)\u001b[0m\u001b[0;34m:\u001b[0m\u001b[0;34m\u001b[0m\u001b[0;34m\u001b[0m\u001b[0m\n",
            "\u001b[0;32m/usr/local/lib/python3.7/dist-packages/torch/autograd/__init__.py\u001b[0m in \u001b[0;36mbackward\u001b[0;34m(tensors, grad_tensors, retain_graph, create_graph, grad_variables, inputs)\u001b[0m\n\u001b[1;32m    154\u001b[0m     Variable._execution_engine.run_backward(\n\u001b[1;32m    155\u001b[0m         \u001b[0mtensors\u001b[0m\u001b[0;34m,\u001b[0m \u001b[0mgrad_tensors_\u001b[0m\u001b[0;34m,\u001b[0m \u001b[0mretain_graph\u001b[0m\u001b[0;34m,\u001b[0m \u001b[0mcreate_graph\u001b[0m\u001b[0;34m,\u001b[0m \u001b[0minputs\u001b[0m\u001b[0;34m,\u001b[0m\u001b[0;34m\u001b[0m\u001b[0;34m\u001b[0m\u001b[0m\n\u001b[0;32m--> 156\u001b[0;31m         allow_unreachable=True, accumulate_grad=True)  # allow_unreachable flag\n\u001b[0m\u001b[1;32m    157\u001b[0m \u001b[0;34m\u001b[0m\u001b[0m\n\u001b[1;32m    158\u001b[0m \u001b[0;34m\u001b[0m\u001b[0m\n",
            "\u001b[0;31mKeyboardInterrupt\u001b[0m: "
          ]
        }
      ]
    },
    {
      "cell_type": "markdown",
      "source": [
        "You can now upload the result of the training to the Hub, just execute this instruction:"
      ],
      "metadata": {
        "id": "S5IZYBTbuCuE"
      }
    },
    {
      "cell_type": "code",
      "source": [
        "trainer.push_to_hub()"
      ],
      "metadata": {
        "id": "y-nDkmQTociP"
      },
      "execution_count": null,
      "outputs": []
    },
    {
      "cell_type": "markdown",
      "source": [
        "\n",
        "\n",
        "You can now share this model with all your friends, family, favorite pets: they can all load it with the identifier \"your-username/the-name-you-picked\" so for instance:\n",
        "\n",
        "```python\n",
        "from transformers import AutoModelForSeq2SeqLM\n",
        "\n",
        "model = AutoModelForSeq2SeqLM.from_pretrained(\"SOAI/my-awesome-model\")\n",
        "```\n",
        "\n"
      ],
      "metadata": {
        "id": "fFwC_g-ruF9F"
      }
    }
  ]
}
